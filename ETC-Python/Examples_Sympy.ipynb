{
  "nbformat": 4,
  "nbformat_minor": 0,
  "metadata": {
    "kernelspec": {
      "name": "python3810jvsc74a57bd086d3a8d6c11007ac0a212481f50acd5451fceff29deb547e5ec7fe8108fa6304",
      "display_name": "Python 3.8.10 64-bit ('YOLOTest': conda)"
    },
    "language_info": {
      "codemirror_mode": {
        "name": "ipython",
        "version": 2
      },
      "file_extension": ".py",
      "mimetype": "text/x-python",
      "name": "python",
      "nbconvert_exporter": "python",
      "pygments_lexer": "ipython2",
      "version": "3.8.10"
    },
    "colab": {
      "name": "Lecture-5-Sympy.ipynb",
      "provenance": [],
      "include_colab_link": true
    }
  },
  "cells": [
    {
      "cell_type": "markdown",
      "metadata": {
        "id": "view-in-github",
        "colab_type": "text"
      },
      "source": [
        "<a href=\"https://colab.research.google.com/github/knowledge-intelligence/tips-for-kime/blob/main/ETC-Python/Examples_Sympy.ipynb\" target=\"_parent\"><img src=\"https://colab.research.google.com/assets/colab-badge.svg\" alt=\"Open In Colab\"/></a>"
      ]
    },
    {
      "cell_type": "markdown",
      "metadata": {
        "id": "Q__82Tg8Q4wf"
      },
      "source": [
        "# Sympy - Symbolic algebra in Python"
      ]
    },
    {
      "cell_type": "markdown",
      "metadata": {
        "id": "8o0BGJVrQ4wi"
      },
      "source": [
        "J.R. Johansson (jrjohansson at gmail.com)\n",
        "\n",
        "The latest version of this [IPython notebook](http://ipython.org/notebook.html) lecture is available at [http://github.com/jrjohansson/scientific-python-lectures](http://github.com/jrjohansson/scientific-python-lectures).\n",
        "\n",
        "The other notebooks in this lecture series are indexed at [http://jrjohansson.github.io](http://jrjohansson.github.io)."
      ]
    },
    {
      "cell_type": "code",
      "metadata": {
        "id": "Rfe8zL7NQ4wj"
      },
      "source": [
        "%matplotlib inline\n",
        "import matplotlib.pyplot as plt\n",
        "from sympy import *"
      ],
      "execution_count": null,
      "outputs": []
    },
    {
      "cell_type": "markdown",
      "metadata": {
        "id": "CxaNRrD0Q4wl"
      },
      "source": [
        "To get nice-looking $\\LaTeX$ formatted output run:"
      ]
    },
    {
      "cell_type": "code",
      "metadata": {
        "id": "51Av7gCVQ4wl"
      },
      "source": [
        "init_printing()\n",
        "\n",
        "# or with older versions of sympy/ipython, load the IPython extension\n",
        "#%load_ext sympy.interactive.ipythonprinting\n",
        "# or\n",
        "#%load_ext sympyprinting"
      ],
      "execution_count": null,
      "outputs": []
    },
    {
      "cell_type": "markdown",
      "metadata": {
        "id": "-cPb6ftUQ4wm"
      },
      "source": [
        "## Symbolic variables"
      ]
    },
    {
      "cell_type": "code",
      "metadata": {
        "id": "RpsS-d6RQ4wn"
      },
      "source": [
        "x = Symbol('x')"
      ],
      "execution_count": null,
      "outputs": []
    },
    {
      "cell_type": "code",
      "metadata": {
        "id": "97M2S9fkQ4wn",
        "outputId": "3d7f3513-6995-4757-a045-470ee2f9498f"
      },
      "source": [
        "(pi + x)**2"
      ],
      "execution_count": null,
      "outputs": [
        {
          "output_type": "execute_result",
          "data": {
            "image/png": "[encoded data removed]",
            "text/latex": "$$\\left(x + \\pi\\right)^{2}$$",
            "text/plain": [
              "       2\n",
              "(x + π) "
            ]
          },
          "metadata": {
            "tags": []
          },
          "execution_count": 5
        }
      ]
    },
    {
      "cell_type": "code",
      "metadata": {
        "id": "MXqafibdQ4wp"
      },
      "source": [
        "# alternative way of defining symbols\n",
        "a, b, c = symbols(\"a, b, c\")"
      ],
      "execution_count": null,
      "outputs": []
    },
    {
      "cell_type": "code",
      "metadata": {
        "id": "xcH815QVQ4wp",
        "outputId": "c2929197-1f2f-43f3-b70b-3ffe93f13d9c"
      },
      "source": [
        "type(a)"
      ],
      "execution_count": null,
      "outputs": [
        {
          "output_type": "execute_result",
          "data": {
            "text/plain": [
              "sympy.core.symbol.Symbol"
            ]
          },
          "metadata": {
            "tags": []
          },
          "execution_count": 7
        }
      ]
    },
    {
      "cell_type": "markdown",
      "metadata": {
        "id": "XQq_81sFQ4wq"
      },
      "source": [
        "We can add assumptions to symbols when we create them:"
      ]
    },
    {
      "cell_type": "code",
      "metadata": {
        "id": "hQurDRvOQ4wq"
      },
      "source": [
        "x = Symbol('x', real=True)"
      ],
      "execution_count": null,
      "outputs": []
    },
    {
      "cell_type": "code",
      "metadata": {
        "id": "s-CQaosUQ4wr",
        "outputId": "52614011-ce9a-4888-bf32-5dad8276ac05"
      },
      "source": [
        "x.is_imaginary"
      ],
      "execution_count": null,
      "outputs": [
        {
          "output_type": "execute_result",
          "data": {
            "text/plain": [
              "False"
            ]
          },
          "metadata": {
            "tags": []
          },
          "execution_count": 9
        }
      ]
    },
    {
      "cell_type": "code",
      "metadata": {
        "id": "9Tw0xZWSQ4wr"
      },
      "source": [
        "x = Symbol('x', positive=True)"
      ],
      "execution_count": null,
      "outputs": []
    },
    {
      "cell_type": "code",
      "metadata": {
        "id": "K5xdwP9jQ4wr",
        "outputId": "157a27cd-5d6b-40a6-f64e-97db81a15e33"
      },
      "source": [
        "x > 0"
      ],
      "execution_count": null,
      "outputs": [
        {
          "output_type": "execute_result",
          "data": {
            "image/png": "[encoded data removed]",
            "text/latex": "$$\\mathrm{True}$$",
            "text/plain": [
              "True"
            ]
          },
          "metadata": {
            "tags": []
          },
          "execution_count": 11
        }
      ]
    },
    {
      "cell_type": "markdown",
      "metadata": {
        "id": "G57FAPC5Q4ws"
      },
      "source": [
        "The imaginary unit is denoted `I` in Sympy. "
      ]
    },
    {
      "cell_type": "code",
      "metadata": {
        "id": "gR09UWWDQ4ws",
        "outputId": "95c04d6e-1404-4129-e9f0-2bd575c1d3c6"
      },
      "source": [
        "1+1*I"
      ],
      "execution_count": null,
      "outputs": [
        {
          "output_type": "execute_result",
          "data": {
            "image/png": "[encoded data removed]",
            "text/latex": "$$1 + i$$",
            "text/plain": [
              "1 + ⅈ"
            ]
          },
          "metadata": {
            "tags": []
          },
          "execution_count": 12
        }
      ]
    },
    {
      "cell_type": "code",
      "metadata": {
        "id": "QwyooIqHQ4wt",
        "outputId": "526c92fe-5079-464b-df59-aebf9d48b047"
      },
      "source": [
        "I**2"
      ],
      "execution_count": null,
      "outputs": [
        {
          "output_type": "execute_result",
          "data": {
            "image/png": "[encoded data removed]",
            "text/latex": "$$-1$$",
            "text/plain": [
              "-1"
            ]
          },
          "metadata": {
            "tags": []
          },
          "execution_count": 13
        }
      ]
    },
    {
      "cell_type": "code",
      "metadata": {
        "id": "VsejTgSJQ4wt",
        "outputId": "cf20f812-e137-49ec-8a3d-f9c5ec105e63"
      },
      "source": [
        "(x * I + 1)**2"
      ],
      "execution_count": null,
      "outputs": [
        {
          "output_type": "execute_result",
          "data": {
            "image/png": "[encoded data removed]",
            "text/latex": "$$\\left(i x + 1\\right)^{2}$$",
            "text/plain": [
              "         2\n",
              "(ⅈ⋅x + 1) "
            ]
          },
          "metadata": {
            "tags": []
          },
          "execution_count": 14
        }
      ]
    },
    {
      "cell_type": "markdown",
      "metadata": {
        "id": "A-ScNW3gQ4wu"
      },
      "source": [
        "### Rational numbers\n",
        "There are three different numerical types in SymPy: `Real`, `Rational`, `Integer`: "
      ]
    },
    {
      "cell_type": "code",
      "metadata": {
        "id": "JHgA8NzAQ4wv"
      },
      "source": [
        "r1 = Rational(4,5)\n",
        "r2 = Rational(5,4)"
      ],
      "execution_count": null,
      "outputs": []
    },
    {
      "cell_type": "code",
      "metadata": {
        "id": "23EFNTt_Q4wv",
        "outputId": "e9466576-9907-4151-ac9b-298bd795ee95"
      },
      "source": [
        "r1"
      ],
      "execution_count": null,
      "outputs": [
        {
          "output_type": "execute_result",
          "data": {
            "image/png": "[encoded data removed]",
            "text/latex": "$$\\frac{4}{5}$$",
            "text/plain": [
              "4/5"
            ]
          },
          "metadata": {
            "tags": []
          },
          "execution_count": 16
        }
      ]
    },
    {
      "cell_type": "code",
      "metadata": {
        "id": "NtuQ5tAMQ4wv",
        "outputId": "cd213c37-6d71-45f1-82e4-ce7d8b25f343"
      },
      "source": [
        "r1+r2"
      ],
      "execution_count": null,
      "outputs": [
        {
          "output_type": "execute_result",
          "data": {
            "image/png": "[encoded data removed]",
            "text/latex": "$$\\frac{41}{20}$$",
            "text/plain": [
              "41\n",
              "──\n",
              "20"
            ]
          },
          "metadata": {
            "tags": []
          },
          "execution_count": 17
        }
      ]
    },
    {
      "cell_type": "code",
      "metadata": {
        "id": "ofabbOeBQ4ww",
        "outputId": "8ef8066f-f7c6-49a5-b882-bd93da199e30"
      },
      "source": [
        "r1/r2"
      ],
      "execution_count": null,
      "outputs": [
        {
          "output_type": "execute_result",
          "data": {
            "image/png": "[encoded data removed]",
            "text/latex": "$$\\frac{16}{25}$$",
            "text/plain": [
              "16\n",
              "──\n",
              "25"
            ]
          },
          "metadata": {
            "tags": []
          },
          "execution_count": 18
        }
      ]
    },
    {
      "cell_type": "markdown",
      "metadata": {
        "id": "sEublHJ3Q4wx"
      },
      "source": [
        "## Numerical evaluation\n",
        "SymPy uses a library for artitrary precision as numerical backend, and has predefined SymPy expressions for a number of mathematical constants, such as: `pi`, `e`, `oo` for infinity.\n",
        "\n",
        "To evaluate an expression numerically we can use the `evalf` function (or `N`). It takes an argument `n` which specifies the number of significant digits."
      ]
    },
    {
      "cell_type": "code",
      "metadata": {
        "id": "eVHxqppDQ4wx",
        "outputId": "325088d6-5fe7-421d-9d1e-80f5869e6d19"
      },
      "source": [
        "pi.evalf(n=50)"
      ],
      "execution_count": null,
      "outputs": [
        {
          "output_type": "execute_result",
          "data": {
            "image/png": "[encoded data removed]",
            "text/latex": "$$3.1415926535897932384626433832795028841971693993751$$",
            "text/plain": [
              "3.1415926535897932384626433832795028841971693993751"
            ]
          },
          "metadata": {
            "tags": []
          },
          "execution_count": 19
        }
      ]
    },
    {
      "cell_type": "code",
      "metadata": {
        "id": "K68rwTjNQ4wx"
      },
      "source": [
        "y = (x + pi)**2"
      ],
      "execution_count": null,
      "outputs": []
    },
    {
      "cell_type": "code",
      "metadata": {
        "id": "AtJUngG_Q4wy",
        "outputId": "2437b52f-20cb-4efa-c039-2244152b424e"
      },
      "source": [
        "N(y, 5) # same as evalf"
      ],
      "execution_count": null,
      "outputs": [
        {
          "output_type": "execute_result",
          "data": {
            "image/png": "[encoded data removed]",
            "text/latex": "$$\\left(x + 3.1416\\right)^{2}$$",
            "text/plain": [
              "            2\n",
              "(x + 3.1416) "
            ]
          },
          "metadata": {
            "tags": []
          },
          "execution_count": 21
        }
      ]
    },
    {
      "cell_type": "markdown",
      "metadata": {
        "id": "zNSVW64GQ4wy"
      },
      "source": [
        "When we numerically evaluate algebraic expressions we often want to substitute a symbol with a numerical value. In SymPy we do that using the `subs` function:"
      ]
    },
    {
      "cell_type": "code",
      "metadata": {
        "id": "3M73p8X2Q4wz",
        "outputId": "8d5cca4e-a8af-4ff7-8977-e33be7bf54af"
      },
      "source": [
        "y.subs(x, 1.5)"
      ],
      "execution_count": null,
      "outputs": [
        {
          "output_type": "execute_result",
          "data": {
            "image/png": "[encoded data removed]",
            "text/latex": "$$\\left(1.5 + \\pi\\right)^{2}$$",
            "text/plain": [
              "         2\n",
              "(1.5 + π) "
            ]
          },
          "metadata": {
            "tags": []
          },
          "execution_count": 22
        }
      ]
    },
    {
      "cell_type": "code",
      "metadata": {
        "id": "4I0yguDsQ4wz",
        "outputId": "e02eb387-d24f-4927-9bfb-d311aa1bbdc2"
      },
      "source": [
        "N(y.subs(x, 1.5))"
      ],
      "execution_count": null,
      "outputs": [
        {
          "output_type": "execute_result",
          "data": {
            "image/png": "[encoded data removed]",
            "text/latex": "$$21.5443823618587$$",
            "text/plain": [
              "21.5443823618587"
            ]
          },
          "metadata": {
            "tags": []
          },
          "execution_count": 23
        }
      ]
    },
    {
      "cell_type": "markdown",
      "metadata": {
        "id": "28MjVsXJQ4w0"
      },
      "source": [
        "The `subs` function can of course also be used to substitute Symbols and expressions:"
      ]
    },
    {
      "cell_type": "code",
      "metadata": {
        "id": "e9MVx0RqQ4w0",
        "outputId": "24003177-741a-4671-c0f5-2f92e96403af"
      },
      "source": [
        "y.subs(x, a+pi)"
      ],
      "execution_count": null,
      "outputs": [
        {
          "output_type": "execute_result",
          "data": {
            "image/png": "[encoded data removed]",
            "text/latex": "$$\\left(a + 2 \\pi\\right)^{2}$$",
            "text/plain": [
              "         2\n",
              "(a + 2⋅π) "
            ]
          },
          "metadata": {
            "tags": []
          },
          "execution_count": 24
        }
      ]
    },
    {
      "cell_type": "markdown",
      "metadata": {
        "id": "d0hdI7OUQ4w0"
      },
      "source": [
        "We can also combine numerical evolution of expressions with NumPy arrays:"
      ]
    },
    {
      "cell_type": "code",
      "metadata": {
        "id": "pzbCtfmdQ4w1"
      },
      "source": [
        "import numpy"
      ],
      "execution_count": null,
      "outputs": []
    },
    {
      "cell_type": "code",
      "metadata": {
        "id": "Dhyrw5ESQ4w1"
      },
      "source": [
        "x_vec = numpy.arange(0, 10, 0.1)"
      ],
      "execution_count": null,
      "outputs": []
    },
    {
      "cell_type": "code",
      "metadata": {
        "id": "2I-cf0ZiQ4w1"
      },
      "source": [
        "y_vec = numpy.array([N(((x + pi)**2).subs(x, xx)) for xx in x_vec])"
      ],
      "execution_count": null,
      "outputs": []
    },
    {
      "cell_type": "code",
      "metadata": {
        "id": "tD8NLqckQ4w2",
        "outputId": "a045750f-bbb2-459f-97fe-34c0a76eb979"
      },
      "source": [
        "fig, ax = plt.subplots()\n",
        "ax.plot(x_vec, y_vec);"
      ],
      "execution_count": null,
      "outputs": [
        {
          "output_type": "display_data",
          "data": {
            "image/png": "[encoded data removed]",
            "text/plain": [
              "<matplotlib.figure.Figure at 0x1093af4d0>"
            ]
          },
          "metadata": {
            "tags": []
          }
        }
      ]
    },
    {
      "cell_type": "markdown",
      "metadata": {
        "id": "AnGSPKNlQ4w2"
      },
      "source": [
        "However, this kind of numerical evolution can be very slow, and there is a much more efficient way to do it: Use the function `lambdify` to \"compile\" a Sympy expression into a function that is much more efficient to evaluate numerically:"
      ]
    },
    {
      "cell_type": "code",
      "metadata": {
        "id": "H0ZiUKi5Q4w3"
      },
      "source": [
        "f = lambdify([x], (x + pi)**2, 'numpy')  # the first argument is a list of variables that\n",
        "                                         # f will be a function of: in this case only x -> f(x)"
      ],
      "execution_count": null,
      "outputs": []
    },
    {
      "cell_type": "code",
      "metadata": {
        "id": "v_mAvGRUQ4w3"
      },
      "source": [
        "y_vec = f(x_vec)  # now we can directly pass a numpy array and f(x) is efficiently evaluated"
      ],
      "execution_count": null,
      "outputs": []
    },
    {
      "cell_type": "markdown",
      "metadata": {
        "id": "-KcXV9onQ4w3"
      },
      "source": [
        "The speedup when using \"lambdified\" functions instead of direct numerical evaluation can be significant, often several orders of magnitude. Even in this simple example we get a significant speed up:"
      ]
    },
    {
      "cell_type": "code",
      "metadata": {
        "id": "N3R4YQrxQ4w4",
        "outputId": "ef8df4c3-751f-4d45-b8bf-55eaeae4c249"
      },
      "source": [
        "%%timeit\n",
        "\n",
        "y_vec = numpy.array([N(((x + pi)**2).subs(x, xx)) for xx in x_vec])"
      ],
      "execution_count": null,
      "outputs": [
        {
          "output_type": "stream",
          "text": [
            "10 loops, best of 3: 28.2 ms per loop\n"
          ],
          "name": "stdout"
        }
      ]
    },
    {
      "cell_type": "code",
      "metadata": {
        "id": "v_XqdPiuQ4w4",
        "outputId": "d4704ad4-ec11-427c-89ae-9eef73dab6dc"
      },
      "source": [
        "%%timeit\n",
        "\n",
        "y_vec = f(x_vec)"
      ],
      "execution_count": 2,
      "outputs": [
        {
          "output_type": "error",
          "ename": "NameError",
          "evalue": "name 'f' is not defined",
          "traceback": [
            "\u001b[1;31m---------------------------------------------------------------------------\u001b[0m",
            "\u001b[1;31mNameError\u001b[0m                                 Traceback (most recent call last)",
            "\u001b[1;32m<ipython-input-2-395cef115f11>\u001b[0m in \u001b[0;36m<module>\u001b[1;34m\u001b[0m\n\u001b[1;32m----> 1\u001b[1;33m \u001b[0mget_ipython\u001b[0m\u001b[1;33m(\u001b[0m\u001b[1;33m)\u001b[0m\u001b[1;33m.\u001b[0m\u001b[0mrun_cell_magic\u001b[0m\u001b[1;33m(\u001b[0m\u001b[1;34m'timeit'\u001b[0m\u001b[1;33m,\u001b[0m \u001b[1;34m''\u001b[0m\u001b[1;33m,\u001b[0m \u001b[1;34m'\\ny_vec = f(x_vec)\\n'\u001b[0m\u001b[1;33m)\u001b[0m\u001b[1;33m\u001b[0m\u001b[1;33m\u001b[0m\u001b[0m\n\u001b[0m",
            "\u001b[1;32m~\\.conda\\envs\\YOLOTest\\lib\\site-packages\\IPython\\core\\interactiveshell.py\u001b[0m in \u001b[0;36mrun_cell_magic\u001b[1;34m(self, magic_name, line, cell)\u001b[0m\n\u001b[0;32m   2401\u001b[0m             \u001b[1;32mwith\u001b[0m \u001b[0mself\u001b[0m\u001b[1;33m.\u001b[0m\u001b[0mbuiltin_trap\u001b[0m\u001b[1;33m:\u001b[0m\u001b[1;33m\u001b[0m\u001b[1;33m\u001b[0m\u001b[0m\n\u001b[0;32m   2402\u001b[0m                 \u001b[0margs\u001b[0m \u001b[1;33m=\u001b[0m \u001b[1;33m(\u001b[0m\u001b[0mmagic_arg_s\u001b[0m\u001b[1;33m,\u001b[0m \u001b[0mcell\u001b[0m\u001b[1;33m)\u001b[0m\u001b[1;33m\u001b[0m\u001b[1;33m\u001b[0m\u001b[0m\n\u001b[1;32m-> 2403\u001b[1;33m                 \u001b[0mresult\u001b[0m \u001b[1;33m=\u001b[0m \u001b[0mfn\u001b[0m\u001b[1;33m(\u001b[0m\u001b[1;33m*\u001b[0m\u001b[0margs\u001b[0m\u001b[1;33m,\u001b[0m \u001b[1;33m**\u001b[0m\u001b[0mkwargs\u001b[0m\u001b[1;33m)\u001b[0m\u001b[1;33m\u001b[0m\u001b[1;33m\u001b[0m\u001b[0m\n\u001b[0m\u001b[0;32m   2404\u001b[0m             \u001b[1;32mreturn\u001b[0m \u001b[0mresult\u001b[0m\u001b[1;33m\u001b[0m\u001b[1;33m\u001b[0m\u001b[0m\n\u001b[0;32m   2405\u001b[0m \u001b[1;33m\u001b[0m\u001b[0m\n",
            "\u001b[1;32m~\\.conda\\envs\\YOLOTest\\lib\\site-packages\\decorator.py\u001b[0m in \u001b[0;36mfun\u001b[1;34m(*args, **kw)\u001b[0m\n\u001b[0;32m    230\u001b[0m             \u001b[1;32mif\u001b[0m \u001b[1;32mnot\u001b[0m \u001b[0mkwsyntax\u001b[0m\u001b[1;33m:\u001b[0m\u001b[1;33m\u001b[0m\u001b[1;33m\u001b[0m\u001b[0m\n\u001b[0;32m    231\u001b[0m                 \u001b[0margs\u001b[0m\u001b[1;33m,\u001b[0m \u001b[0mkw\u001b[0m \u001b[1;33m=\u001b[0m \u001b[0mfix\u001b[0m\u001b[1;33m(\u001b[0m\u001b[0margs\u001b[0m\u001b[1;33m,\u001b[0m \u001b[0mkw\u001b[0m\u001b[1;33m,\u001b[0m \u001b[0msig\u001b[0m\u001b[1;33m)\u001b[0m\u001b[1;33m\u001b[0m\u001b[1;33m\u001b[0m\u001b[0m\n\u001b[1;32m--> 232\u001b[1;33m             \u001b[1;32mreturn\u001b[0m \u001b[0mcaller\u001b[0m\u001b[1;33m(\u001b[0m\u001b[0mfunc\u001b[0m\u001b[1;33m,\u001b[0m \u001b[1;33m*\u001b[0m\u001b[1;33m(\u001b[0m\u001b[0mextras\u001b[0m \u001b[1;33m+\u001b[0m \u001b[0margs\u001b[0m\u001b[1;33m)\u001b[0m\u001b[1;33m,\u001b[0m \u001b[1;33m**\u001b[0m\u001b[0mkw\u001b[0m\u001b[1;33m)\u001b[0m\u001b[1;33m\u001b[0m\u001b[1;33m\u001b[0m\u001b[0m\n\u001b[0m\u001b[0;32m    233\u001b[0m     \u001b[0mfun\u001b[0m\u001b[1;33m.\u001b[0m\u001b[0m__name__\u001b[0m \u001b[1;33m=\u001b[0m \u001b[0mfunc\u001b[0m\u001b[1;33m.\u001b[0m\u001b[0m__name__\u001b[0m\u001b[1;33m\u001b[0m\u001b[1;33m\u001b[0m\u001b[0m\n\u001b[0;32m    234\u001b[0m     \u001b[0mfun\u001b[0m\u001b[1;33m.\u001b[0m\u001b[0m__doc__\u001b[0m \u001b[1;33m=\u001b[0m \u001b[0mfunc\u001b[0m\u001b[1;33m.\u001b[0m\u001b[0m__doc__\u001b[0m\u001b[1;33m\u001b[0m\u001b[1;33m\u001b[0m\u001b[0m\n",
            "\u001b[1;32m~\\.conda\\envs\\YOLOTest\\lib\\site-packages\\IPython\\core\\magic.py\u001b[0m in \u001b[0;36m<lambda>\u001b[1;34m(f, *a, **k)\u001b[0m\n\u001b[0;32m    185\u001b[0m     \u001b[1;31m# but it's overkill for just that one bit of state.\u001b[0m\u001b[1;33m\u001b[0m\u001b[1;33m\u001b[0m\u001b[1;33m\u001b[0m\u001b[0m\n\u001b[0;32m    186\u001b[0m     \u001b[1;32mdef\u001b[0m \u001b[0mmagic_deco\u001b[0m\u001b[1;33m(\u001b[0m\u001b[0marg\u001b[0m\u001b[1;33m)\u001b[0m\u001b[1;33m:\u001b[0m\u001b[1;33m\u001b[0m\u001b[1;33m\u001b[0m\u001b[0m\n\u001b[1;32m--> 187\u001b[1;33m         \u001b[0mcall\u001b[0m \u001b[1;33m=\u001b[0m \u001b[1;32mlambda\u001b[0m \u001b[0mf\u001b[0m\u001b[1;33m,\u001b[0m \u001b[1;33m*\u001b[0m\u001b[0ma\u001b[0m\u001b[1;33m,\u001b[0m \u001b[1;33m**\u001b[0m\u001b[0mk\u001b[0m\u001b[1;33m:\u001b[0m \u001b[0mf\u001b[0m\u001b[1;33m(\u001b[0m\u001b[1;33m*\u001b[0m\u001b[0ma\u001b[0m\u001b[1;33m,\u001b[0m \u001b[1;33m**\u001b[0m\u001b[0mk\u001b[0m\u001b[1;33m)\u001b[0m\u001b[1;33m\u001b[0m\u001b[1;33m\u001b[0m\u001b[0m\n\u001b[0m\u001b[0;32m    188\u001b[0m \u001b[1;33m\u001b[0m\u001b[0m\n\u001b[0;32m    189\u001b[0m         \u001b[1;32mif\u001b[0m \u001b[0mcallable\u001b[0m\u001b[1;33m(\u001b[0m\u001b[0marg\u001b[0m\u001b[1;33m)\u001b[0m\u001b[1;33m:\u001b[0m\u001b[1;33m\u001b[0m\u001b[1;33m\u001b[0m\u001b[0m\n",
            "\u001b[1;32m~\\.conda\\envs\\YOLOTest\\lib\\site-packages\\IPython\\core\\magics\\execution.py\u001b[0m in \u001b[0;36mtimeit\u001b[1;34m(self, line, cell, local_ns)\u001b[0m\n\u001b[0;32m   1167\u001b[0m             \u001b[1;32mfor\u001b[0m \u001b[0mindex\u001b[0m \u001b[1;32min\u001b[0m \u001b[0mrange\u001b[0m\u001b[1;33m(\u001b[0m\u001b[1;36m0\u001b[0m\u001b[1;33m,\u001b[0m \u001b[1;36m10\u001b[0m\u001b[1;33m)\u001b[0m\u001b[1;33m:\u001b[0m\u001b[1;33m\u001b[0m\u001b[1;33m\u001b[0m\u001b[0m\n\u001b[0;32m   1168\u001b[0m                 \u001b[0mnumber\u001b[0m \u001b[1;33m=\u001b[0m \u001b[1;36m10\u001b[0m \u001b[1;33m**\u001b[0m \u001b[0mindex\u001b[0m\u001b[1;33m\u001b[0m\u001b[1;33m\u001b[0m\u001b[0m\n\u001b[1;32m-> 1169\u001b[1;33m                 \u001b[0mtime_number\u001b[0m \u001b[1;33m=\u001b[0m \u001b[0mtimer\u001b[0m\u001b[1;33m.\u001b[0m\u001b[0mtimeit\u001b[0m\u001b[1;33m(\u001b[0m\u001b[0mnumber\u001b[0m\u001b[1;33m)\u001b[0m\u001b[1;33m\u001b[0m\u001b[1;33m\u001b[0m\u001b[0m\n\u001b[0m\u001b[0;32m   1170\u001b[0m                 \u001b[1;32mif\u001b[0m \u001b[0mtime_number\u001b[0m \u001b[1;33m>=\u001b[0m \u001b[1;36m0.2\u001b[0m\u001b[1;33m:\u001b[0m\u001b[1;33m\u001b[0m\u001b[1;33m\u001b[0m\u001b[0m\n\u001b[0;32m   1171\u001b[0m                     \u001b[1;32mbreak\u001b[0m\u001b[1;33m\u001b[0m\u001b[1;33m\u001b[0m\u001b[0m\n",
            "\u001b[1;32m~\\.conda\\envs\\YOLOTest\\lib\\site-packages\\IPython\\core\\magics\\execution.py\u001b[0m in \u001b[0;36mtimeit\u001b[1;34m(self, number)\u001b[0m\n\u001b[0;32m    167\u001b[0m         \u001b[0mgc\u001b[0m\u001b[1;33m.\u001b[0m\u001b[0mdisable\u001b[0m\u001b[1;33m(\u001b[0m\u001b[1;33m)\u001b[0m\u001b[1;33m\u001b[0m\u001b[1;33m\u001b[0m\u001b[0m\n\u001b[0;32m    168\u001b[0m         \u001b[1;32mtry\u001b[0m\u001b[1;33m:\u001b[0m\u001b[1;33m\u001b[0m\u001b[1;33m\u001b[0m\u001b[0m\n\u001b[1;32m--> 169\u001b[1;33m             \u001b[0mtiming\u001b[0m \u001b[1;33m=\u001b[0m \u001b[0mself\u001b[0m\u001b[1;33m.\u001b[0m\u001b[0minner\u001b[0m\u001b[1;33m(\u001b[0m\u001b[0mit\u001b[0m\u001b[1;33m,\u001b[0m \u001b[0mself\u001b[0m\u001b[1;33m.\u001b[0m\u001b[0mtimer\u001b[0m\u001b[1;33m)\u001b[0m\u001b[1;33m\u001b[0m\u001b[1;33m\u001b[0m\u001b[0m\n\u001b[0m\u001b[0;32m    170\u001b[0m         \u001b[1;32mfinally\u001b[0m\u001b[1;33m:\u001b[0m\u001b[1;33m\u001b[0m\u001b[1;33m\u001b[0m\u001b[0m\n\u001b[0;32m    171\u001b[0m             \u001b[1;32mif\u001b[0m \u001b[0mgcold\u001b[0m\u001b[1;33m:\u001b[0m\u001b[1;33m\u001b[0m\u001b[1;33m\u001b[0m\u001b[0m\n",
            "\u001b[1;32m<magic-timeit>\u001b[0m in \u001b[0;36minner\u001b[1;34m(_it, _timer)\u001b[0m\n",
            "\u001b[1;31mNameError\u001b[0m: name 'f' is not defined"
          ]
        }
      ]
    },
    {
      "cell_type": "markdown",
      "metadata": {
        "id": "DX5GKqkFQ4w5"
      },
      "source": [
        "## Algebraic manipulations"
      ]
    },
    {
      "cell_type": "markdown",
      "metadata": {
        "id": "2he4WmSJQ4w6"
      },
      "source": [
        "### Expand and factor\n",
        "The first steps in an algebraic manipulation "
      ]
    },
    {
      "cell_type": "code",
      "metadata": {
        "id": "GjWlEArPQ4w6",
        "outputId": "885bb062-d269-4065-d160-8541f2f95409"
      },
      "source": [
        "(x+1)*(x+2)*(x+3)"
      ],
      "execution_count": null,
      "outputs": [
        {
          "output_type": "execute_result",
          "data": {
            "image/png": "[encoded data removed]",
            "text/latex": "$$\\left(x + 1\\right) \\left(x + 2\\right) \\left(x + 3\\right)$$",
            "text/plain": [
              "(x + 1)⋅(x + 2)⋅(x + 3)"
            ]
          },
          "metadata": {
            "tags": []
          },
          "execution_count": 33
        }
      ]
    },
    {
      "cell_type": "code",
      "metadata": {
        "id": "rJoyRSIRQ4w7",
        "outputId": "fca59722-7d87-421d-f8a6-cb4f47c335c0"
      },
      "source": [
        "expand((x+1)*(x+2)*(x+3))"
      ],
      "execution_count": null,
      "outputs": [
        {
          "output_type": "execute_result",
          "data": {
            "image/png": "[encoded data removed]",
            "text/latex": "$$x^{3} + 6 x^{2} + 11 x + 6$$",
            "text/plain": [
              " 3      2           \n",
              "x  + 6⋅x  + 11⋅x + 6"
            ]
          },
          "metadata": {
            "tags": []
          },
          "execution_count": 34
        }
      ]
    },
    {
      "cell_type": "markdown",
      "metadata": {
        "id": "-1nFYWCTQ4w7"
      },
      "source": [
        "The `expand` function takes a number of keywords arguments which we can tell the functions what kind of expansions we want to have performed. For example, to expand trigonometric expressions, use the `trig=True` keyword argument:"
      ]
    },
    {
      "cell_type": "code",
      "metadata": {
        "id": "muPaC8xvQ4w8",
        "outputId": "907bec2d-7938-4f31-de73-71203474a60b"
      },
      "source": [
        "sin(a+b)"
      ],
      "execution_count": null,
      "outputs": [
        {
          "output_type": "execute_result",
          "data": {
            "image/png": "[encoded data removed]",
            "text/latex": "$$\\sin{\\left (a + b \\right )}$$",
            "text/plain": [
              "sin(a + b)"
            ]
          },
          "metadata": {
            "tags": []
          },
          "execution_count": 35
        }
      ]
    },
    {
      "cell_type": "code",
      "metadata": {
        "id": "a7xzHy4GQ4w8",
        "outputId": "169c55e8-e003-4c1d-f11c-20d1320f2c33"
      },
      "source": [
        "expand(sin(a+b), trig=True)"
      ],
      "execution_count": null,
      "outputs": [
        {
          "output_type": "execute_result",
          "data": {
            "image/png": "[encoded data removed]",
            "text/latex": "$$\\sin{\\left (a \\right )} \\cos{\\left (b \\right )} + \\sin{\\left (b \\right )} \\cos{\\left (a \\right )}$$",
            "text/plain": [
              "sin(a)⋅cos(b) + sin(b)⋅cos(a)"
            ]
          },
          "metadata": {
            "tags": []
          },
          "execution_count": 36
        }
      ]
    },
    {
      "cell_type": "markdown",
      "metadata": {
        "id": "sN2hZc7bQ4w9"
      },
      "source": [
        "The opposite a product expansion is of course factoring. The factor an expression in SymPy use the `factor` function: "
      ]
    },
    {
      "cell_type": "code",
      "metadata": {
        "id": "8TCfFq67Q4w-",
        "outputId": "3568c2fe-cf30-4678-884a-0f1605e8977b"
      },
      "source": [
        "factor(x**3 + 6 * x**2 + 11*x + 6)"
      ],
      "execution_count": null,
      "outputs": [
        {
          "output_type": "execute_result",
          "data": {
            "image/png": "[encoded data removed]",
            "text/latex": "$$\\left(x + 1\\right) \\left(x + 2\\right) \\left(x + 3\\right)$$",
            "text/plain": [
              "(x + 1)⋅(x + 2)⋅(x + 3)"
            ]
          },
          "metadata": {
            "tags": []
          },
          "execution_count": 37
        }
      ]
    },
    {
      "cell_type": "markdown",
      "metadata": {
        "id": "cLbWvv-mQ4w-"
      },
      "source": [
        "### Simplify\n",
        "The `simplify` tries to simplify an expression into a nice looking expression, using various techniques. More specific alternatives to the `simplify` functions also exists: `trigsimp`, `powsimp`, `logcombine`, etc. \n",
        "\n",
        "The basic usages of these functions are as follows:"
      ]
    },
    {
      "cell_type": "code",
      "metadata": {
        "id": "Lui-Z2sjQ4w_",
        "outputId": "e50720ef-4882-4c28-e943-3ebb2adfd84e"
      },
      "source": [
        "# simplify expands a product\n",
        "simplify((x+1)*(x+2)*(x+3))"
      ],
      "execution_count": null,
      "outputs": [
        {
          "output_type": "execute_result",
          "data": {
            "image/png": "[encoded data removed]",
            "text/latex": "$$\\left(x + 1\\right) \\left(x + 2\\right) \\left(x + 3\\right)$$",
            "text/plain": [
              "(x + 1)⋅(x + 2)⋅(x + 3)"
            ]
          },
          "metadata": {
            "tags": []
          },
          "execution_count": 38
        }
      ]
    },
    {
      "cell_type": "code",
      "metadata": {
        "id": "nzQl5StmQ4w_",
        "outputId": "ae73b031-ad50-4d27-d2cc-b1647fa1413e"
      },
      "source": [
        "# simplify uses trigonometric identities\n",
        "simplify(sin(a)**2 + cos(a)**2)"
      ],
      "execution_count": null,
      "outputs": [
        {
          "output_type": "execute_result",
          "data": {
            "image/png": "[encoded data removed]",
            "text/latex": "$$1$$",
            "text/plain": [
              "1"
            ]
          },
          "metadata": {
            "tags": []
          },
          "execution_count": 39
        }
      ]
    },
    {
      "cell_type": "code",
      "metadata": {
        "id": "KexmIXFmQ4xA",
        "outputId": "9de06824-a6d8-4908-cfb3-b9b2e6ad0896"
      },
      "source": [
        "simplify(cos(x)/sin(x))"
      ],
      "execution_count": null,
      "outputs": [
        {
          "output_type": "execute_result",
          "data": {
            "image/png": "[encoded data removed]",
            "text/latex": "$$\\frac{1}{\\tan{\\left (x \\right )}}$$",
            "text/plain": [
              "  1   \n",
              "──────\n",
              "tan(x)"
            ]
          },
          "metadata": {
            "tags": []
          },
          "execution_count": 40
        }
      ]
    },
    {
      "cell_type": "markdown",
      "metadata": {
        "id": "ZP6L33IwQ4xB"
      },
      "source": [
        "### apart and together\n",
        "To manipulate symbolic expressions of fractions, we can use the `apart` and `together` functions:"
      ]
    },
    {
      "cell_type": "code",
      "metadata": {
        "id": "Z-Pt4yVbQ4xB"
      },
      "source": [
        "f1 = 1/((a+1)*(a+2))"
      ],
      "execution_count": null,
      "outputs": []
    },
    {
      "cell_type": "code",
      "metadata": {
        "id": "zZdkE4GiQ4xB",
        "outputId": "c6ed1324-35b3-4458-e212-91745599dd49"
      },
      "source": [
        "f1"
      ],
      "execution_count": null,
      "outputs": [
        {
          "output_type": "execute_result",
          "data": {
            "image/png": "[encoded data removed]",
            "text/latex": "$$\\frac{1}{\\left(a + 1\\right) \\left(a + 2\\right)}$$",
            "text/plain": [
              "       1       \n",
              "───────────────\n",
              "(a + 1)⋅(a + 2)"
            ]
          },
          "metadata": {
            "tags": []
          },
          "execution_count": 42
        }
      ]
    },
    {
      "cell_type": "code",
      "metadata": {
        "id": "B9Ji3xThQ4xC",
        "outputId": "eb8b9c32-4853-45ee-dd01-1f10647a4aec"
      },
      "source": [
        "apart(f1)"
      ],
      "execution_count": null,
      "outputs": [
        {
          "output_type": "execute_result",
          "data": {
            "image/png": "[encoded data removed]",
            "text/latex": "$$- \\frac{1}{a + 2} + \\frac{1}{a + 1}$$",
            "text/plain": [
              "    1       1  \n",
              "- ───── + ─────\n",
              "  a + 2   a + 1"
            ]
          },
          "metadata": {
            "tags": []
          },
          "execution_count": 43
        }
      ]
    },
    {
      "cell_type": "code",
      "metadata": {
        "id": "RuqfQ-zyQ4xC"
      },
      "source": [
        "f2 = 1/(a+2) + 1/(a+3)"
      ],
      "execution_count": null,
      "outputs": []
    },
    {
      "cell_type": "code",
      "metadata": {
        "id": "PPis-CfcQ4xD",
        "outputId": "720e77a0-33b6-4b75-9eab-2a30d656ef67"
      },
      "source": [
        "f2"
      ],
      "execution_count": null,
      "outputs": [
        {
          "output_type": "execute_result",
          "data": {
            "image/png": "[encoded data removed]",
            "text/latex": "$$\\frac{1}{a + 3} + \\frac{1}{a + 2}$$",
            "text/plain": [
              "  1       1  \n",
              "───── + ─────\n",
              "a + 3   a + 2"
            ]
          },
          "metadata": {
            "tags": []
          },
          "execution_count": 45
        }
      ]
    },
    {
      "cell_type": "code",
      "metadata": {
        "id": "JaJ9CJHNQ4xD",
        "outputId": "bac38e78-cd82-440c-90f1-18e25597a719"
      },
      "source": [
        "together(f2)"
      ],
      "execution_count": null,
      "outputs": [
        {
          "output_type": "execute_result",
          "data": {
            "image/png": "[encoded data removed]",
            "text/latex": "$$\\frac{2 a + 5}{\\left(a + 2\\right) \\left(a + 3\\right)}$$",
            "text/plain": [
              "    2⋅a + 5    \n",
              "───────────────\n",
              "(a + 2)⋅(a + 3)"
            ]
          },
          "metadata": {
            "tags": []
          },
          "execution_count": 46
        }
      ]
    },
    {
      "cell_type": "markdown",
      "metadata": {
        "id": "IgSSqrdyQ4xF"
      },
      "source": [
        "## Calculus"
      ]
    },
    {
      "cell_type": "markdown",
      "metadata": {
        "id": "UAn83lk0Q4xG"
      },
      "source": [
        "### Differentiation"
      ]
    },
    {
      "cell_type": "code",
      "metadata": {
        "id": "yx9ZJjRrQ4xG",
        "outputId": "55351c28-a453-4696-d3ed-c53a940493e1"
      },
      "source": [
        "y"
      ],
      "execution_count": null,
      "outputs": [
        {
          "output_type": "execute_result",
          "data": {
            "image/png": "[encoded data removed]",
            "text/latex": "$$\\left(x + \\pi\\right)^{2}$$",
            "text/plain": [
              "       2\n",
              "(x + π) "
            ]
          },
          "metadata": {
            "tags": []
          },
          "execution_count": 48
        }
      ]
    },
    {
      "cell_type": "code",
      "metadata": {
        "id": "F-pC2DIJQ4xH",
        "outputId": "a009f348-5c40-49b5-9e93-3cc39d8520c8"
      },
      "source": [
        "diff(y**2, x)"
      ],
      "execution_count": null,
      "outputs": [
        {
          "output_type": "execute_result",
          "data": {
            "image/png": "[encoded data removed]",
            "text/latex": "$$4 \\left(x + \\pi\\right)^{3}$$",
            "text/plain": [
              "         3\n",
              "4⋅(x + π) "
            ]
          },
          "metadata": {
            "tags": []
          },
          "execution_count": 49
        }
      ]
    },
    {
      "cell_type": "markdown",
      "metadata": {
        "id": "t4BaWe9qQ4xI"
      },
      "source": [
        "For higher order derivatives we can do:"
      ]
    },
    {
      "cell_type": "code",
      "metadata": {
        "id": "iK5MW7MzQ4xI",
        "outputId": "78975d0c-9ec9-40ea-fcd8-694108018fd1"
      },
      "source": [
        "diff(y**2, x, x)"
      ],
      "execution_count": null,
      "outputs": [
        {
          "output_type": "execute_result",
          "data": {
            "image/png": "[encoded data removed]",
            "text/latex": "$$12 \\left(x + \\pi\\right)^{2}$$",
            "text/plain": [
              "          2\n",
              "12⋅(x + π) "
            ]
          },
          "metadata": {
            "tags": []
          },
          "execution_count": 50
        }
      ]
    },
    {
      "cell_type": "code",
      "metadata": {
        "id": "WrdyAvHWQ4xI",
        "outputId": "4ed28a94-c2b9-47c2-e0c5-b2f0ecf1ef00"
      },
      "source": [
        "diff(y**2, x, 2) # same as above"
      ],
      "execution_count": null,
      "outputs": [
        {
          "output_type": "execute_result",
          "data": {
            "image/png": "[encoded data removed]",
            "text/latex": "$$12 \\left(x + \\pi\\right)^{2}$$",
            "text/plain": [
              "          2\n",
              "12⋅(x + π) "
            ]
          },
          "metadata": {
            "tags": []
          },
          "execution_count": 51
        }
      ]
    },
    {
      "cell_type": "markdown",
      "metadata": {
        "id": "owfG68ljQ4xJ"
      },
      "source": [
        "To calculate the derivative of a multivariate expression, we can do:"
      ]
    },
    {
      "cell_type": "code",
      "metadata": {
        "id": "3OEipktoQ4xJ"
      },
      "source": [
        "x, y, z = symbols(\"x,y,z\")"
      ],
      "execution_count": null,
      "outputs": []
    },
    {
      "cell_type": "code",
      "metadata": {
        "id": "sBxKC9x9Q4xK"
      },
      "source": [
        "f = sin(x*y) + cos(y*z)"
      ],
      "execution_count": null,
      "outputs": []
    },
    {
      "cell_type": "markdown",
      "metadata": {
        "id": "kWTRBjmtQ4xK"
      },
      "source": [
        "$\\frac{d^3f}{dxdy^2}$"
      ]
    },
    {
      "cell_type": "code",
      "metadata": {
        "id": "OoJHaUFaQ4xK",
        "outputId": "f808813b-d1e9-4e60-cb11-454ddf7bd056"
      },
      "source": [
        "diff(f, x, 1, y, 2)"
      ],
      "execution_count": null,
      "outputs": [
        {
          "output_type": "execute_result",
          "data": {
            "image/png": "[encoded data removed]",
            "text/latex": "$$- x \\left(x y \\cos{\\left (x y \\right )} + 2 \\sin{\\left (x y \\right )}\\right)$$",
            "text/plain": [
              "-x⋅(x⋅y⋅cos(x⋅y) + 2⋅sin(x⋅y))"
            ]
          },
          "metadata": {
            "tags": []
          },
          "execution_count": 54
        }
      ]
    },
    {
      "cell_type": "markdown",
      "metadata": {
        "id": "UeCfnAuOQ4xL"
      },
      "source": [
        "## Integration"
      ]
    },
    {
      "cell_type": "code",
      "metadata": {
        "id": "yzSfgKhkQ4xL",
        "outputId": "999c7b53-5a97-43e0-c7f8-5e2204964057"
      },
      "source": [
        "f"
      ],
      "execution_count": null,
      "outputs": [
        {
          "output_type": "execute_result",
          "data": {
            "image/png": "[encoded data removed]",
            "text/latex": "$$\\sin{\\left (x y \\right )} + \\cos{\\left (y z \\right )}$$",
            "text/plain": [
              "sin(x⋅y) + cos(y⋅z)"
            ]
          },
          "metadata": {
            "tags": []
          },
          "execution_count": 55
        }
      ]
    },
    {
      "cell_type": "code",
      "metadata": {
        "id": "dERpxbcTQ4xM",
        "outputId": "5d27675c-6709-44c4-acec-ee9ec41e284b"
      },
      "source": [
        "integrate(f, x)"
      ],
      "execution_count": null,
      "outputs": [
        {
          "output_type": "execute_result",
          "data": {
            "image/png": "[encoded data removed]",
            "text/latex": "$$x \\cos{\\left (y z \\right )} + \\begin{cases} 0 & \\text{for}\\: y = 0 \\\\- \\frac{1}{y} \\cos{\\left (x y \\right )} & \\text{otherwise} \\end{cases}$$",
            "text/plain": [
              "             ⎛⎧    0       for y = 0⎞\n",
              "             ⎜⎪                     ⎟\n",
              "x⋅cos(y⋅z) + ⎜⎨-cos(x⋅y)            ⎟\n",
              "             ⎜⎪──────────  otherwise⎟\n",
              "             ⎝⎩    y                ⎠"
            ]
          },
          "metadata": {
            "tags": []
          },
          "execution_count": 56
        }
      ]
    },
    {
      "cell_type": "markdown",
      "metadata": {
        "id": "KCx2tqHFQ4xM"
      },
      "source": [
        "By providing limits for the integration variable we can evaluate definite integrals:"
      ]
    },
    {
      "cell_type": "code",
      "metadata": {
        "id": "Qe3Zbr2eQ4xN",
        "outputId": "55fc0968-c26a-478b-aafb-83e717e20a09"
      },
      "source": [
        "integrate(f, (x, -1, 1))"
      ],
      "execution_count": null,
      "outputs": [
        {
          "output_type": "execute_result",
          "data": {
            "image/png": "[encoded data removed]",
            "text/latex": "$$2 \\cos{\\left (y z \\right )}$$",
            "text/plain": [
              "2⋅cos(y⋅z)"
            ]
          },
          "metadata": {
            "tags": []
          },
          "execution_count": 57
        }
      ]
    },
    {
      "cell_type": "code",
      "metadata": {
        "id": "-BT_ClX8Q4xN",
        "outputId": "111b5f69-b0b6-420c-9247-e116b1d890b3"
      },
      "source": [
        "integrate(exp(-x**2), (x, -oo, oo))"
      ],
      "execution_count": null,
      "outputs": [
        {
          "output_type": "execute_result",
          "data": {
            "image/png": "[encoded data removed]",
            "text/latex": "$$\\sqrt{\\pi}$$",
            "text/plain": [
              "  ___\n",
              "╲╱ π "
            ]
          },
          "metadata": {
            "tags": []
          },
          "execution_count": 58
        }
      ]
    },
    {
      "cell_type": "markdown",
      "metadata": {
        "id": "CcJef1QrQ4xO"
      },
      "source": [
        "Remember, `oo` is the SymPy notation for inifinity."
      ]
    },
    {
      "cell_type": "markdown",
      "metadata": {
        "id": "HkUqI8KjQ4xO"
      },
      "source": [
        "### Sums and products"
      ]
    },
    {
      "cell_type": "code",
      "metadata": {
        "id": "E8mJceNtQ4xP"
      },
      "source": [
        "n = Symbol(\"n\")"
      ],
      "execution_count": null,
      "outputs": []
    },
    {
      "cell_type": "code",
      "metadata": {
        "id": "754K-5yzQ4xP",
        "outputId": "af9a4f9e-cf79-406b-fe66-968522431336"
      },
      "source": [
        "Sum(1/n**2, (n, 1, 10))"
      ],
      "execution_count": null,
      "outputs": [
        {
          "output_type": "execute_result",
          "data": {
            "image/png": "[encoded data removed]",
            "text/latex": "$$\\sum_{n=1}^{10} \\frac{1}{n^{2}}$$",
            "text/plain": [
              "  10    \n",
              " ____   \n",
              " ╲      \n",
              "  ╲   1 \n",
              "   ╲  ──\n",
              "   ╱   2\n",
              "  ╱   n \n",
              " ╱      \n",
              " ‾‾‾‾   \n",
              "n = 1   "
            ]
          },
          "metadata": {
            "tags": []
          },
          "execution_count": 60
        }
      ]
    },
    {
      "cell_type": "code",
      "metadata": {
        "id": "AF8NJO8hQ4xQ",
        "outputId": "82b0be1a-e3a3-4818-d018-cd7ad6c143f5"
      },
      "source": [
        "Sum(1/n**2, (n,1, 10)).evalf()"
      ],
      "execution_count": null,
      "outputs": [
        {
          "output_type": "execute_result",
          "data": {
            "image/png": "[encoded data removed]",
            "text/latex": "$$1.54976773116654$$",
            "text/plain": [
              "1.54976773116654"
            ]
          },
          "metadata": {
            "tags": []
          },
          "execution_count": 61
        }
      ]
    },
    {
      "cell_type": "code",
      "metadata": {
        "id": "xlpQ5zv1Q4xQ",
        "outputId": "92ef3d92-7529-4c5d-fcd1-e7a3ea9e0076"
      },
      "source": [
        "Sum(1/n**2, (n, 1, oo)).evalf()"
      ],
      "execution_count": null,
      "outputs": [
        {
          "output_type": "execute_result",
          "data": {
            "image/png": "[encoded data removed]",
            "text/latex": "$$1.64493406684823$$",
            "text/plain": [
              "1.64493406684823"
            ]
          },
          "metadata": {
            "tags": []
          },
          "execution_count": 62
        }
      ]
    },
    {
      "cell_type": "code",
      "metadata": {
        "id": "LAWEpX_KQ4xR",
        "outputId": "436c7ba4-11f5-4070-fdc8-dba7c581e5fc"
      },
      "source": [
        "Product(n, (n, 1, 10)) # 10!"
      ],
      "execution_count": null,
      "outputs": [
        {
          "output_type": "execute_result",
          "data": {
            "image/png": "[encoded data removed]",
            "text/latex": "$$\\prod_{n=1}^{10} n$$",
            "text/plain": [
              "  10   \n",
              "┬───┬  \n",
              "│   │ n\n",
              "│   │  \n",
              "n = 1  "
            ]
          },
          "metadata": {
            "tags": []
          },
          "execution_count": 63
        }
      ]
    },
    {
      "cell_type": "markdown",
      "metadata": {
        "id": "Y339PHPcQ4xf"
      },
      "source": [
        "## Linear algebra"
      ]
    },
    {
      "cell_type": "markdown",
      "metadata": {
        "id": "rMlKmWtqQ4xf"
      },
      "source": [
        "### Matrices"
      ]
    },
    {
      "cell_type": "markdown",
      "metadata": {
        "id": "33S_KRvoQ4xg"
      },
      "source": [
        "Matrices are defined using the `Matrix` class:"
      ]
    },
    {
      "cell_type": "code",
      "metadata": {
        "id": "ab8mhNRTQ4xg"
      },
      "source": [
        "m11, m12, m21, m22 = symbols(\"m11, m12, m21, m22\")\n",
        "b1, b2 = symbols(\"b1, b2\")"
      ],
      "execution_count": null,
      "outputs": []
    },
    {
      "cell_type": "code",
      "metadata": {
        "id": "evo9v2-bQ4xh",
        "outputId": "34fa4c10-2a17-4416-e962-5a80a23a8620"
      },
      "source": [
        "A = Matrix([[m11, m12],[m21, m22]])\n",
        "A"
      ],
      "execution_count": null,
      "outputs": [
        {
          "output_type": "execute_result",
          "data": {
            "image/png": "[encoded data removed]",
            "text/latex": "$$\\left[\\begin{matrix}m_{11} & m_{12}\\\\m_{21} & m_{22}\\end{matrix}\\right]$$",
            "text/plain": [
              "⎡m₁₁  m₁₂⎤\n",
              "⎢        ⎥\n",
              "⎣m₂₁  m₂₂⎦"
            ]
          },
          "metadata": {
            "tags": []
          },
          "execution_count": 80
        }
      ]
    },
    {
      "cell_type": "code",
      "metadata": {
        "id": "H0C7XMhVQ4xh",
        "outputId": "3121942a-4a55-4199-8100-d14a6b6be423"
      },
      "source": [
        "b = Matrix([[b1], [b2]])\n",
        "b"
      ],
      "execution_count": null,
      "outputs": [
        {
          "output_type": "execute_result",
          "data": {
            "image/png": "[encoded data removed]",
            "text/latex": "$$\\left[\\begin{matrix}b_{1}\\\\b_{2}\\end{matrix}\\right]$$",
            "text/plain": [
              "⎡b₁⎤\n",
              "⎢  ⎥\n",
              "⎣b₂⎦"
            ]
          },
          "metadata": {
            "tags": []
          },
          "execution_count": 81
        }
      ]
    },
    {
      "cell_type": "markdown",
      "metadata": {
        "id": "i4-gzNi-Q4xi"
      },
      "source": [
        "With `Matrix` class instances we can do the usual matrix algebra operations:"
      ]
    },
    {
      "cell_type": "code",
      "metadata": {
        "id": "VI6YtrpcQ4xi",
        "outputId": "5aafcfdc-84ce-48f3-f975-9bcf7706dd85"
      },
      "source": [
        "A**2"
      ],
      "execution_count": null,
      "outputs": [
        {
          "output_type": "execute_result",
          "data": {
            "image/png": "[encoded data removed]",
            "text/latex": "$$\\left[\\begin{matrix}m_{11}^{2} + m_{12} m_{21} & m_{11} m_{12} + m_{12} m_{22}\\\\m_{11} m_{21} + m_{21} m_{22} & m_{12} m_{21} + m_{22}^{2}\\end{matrix}\\right]$$",
            "text/plain": [
              "⎡    2                               ⎤\n",
              "⎢ m₁₁  + m₁₂⋅m₂₁    m₁₁⋅m₁₂ + m₁₂⋅m₂₂⎥\n",
              "⎢                                    ⎥\n",
              "⎢                                 2  ⎥\n",
              "⎣m₁₁⋅m₂₁ + m₂₁⋅m₂₂   m₁₂⋅m₂₁ + m₂₂   ⎦"
            ]
          },
          "metadata": {
            "tags": []
          },
          "execution_count": 82
        }
      ]
    },
    {
      "cell_type": "code",
      "metadata": {
        "id": "h9UoRLMLQ4xj",
        "outputId": "f48e30bd-685c-48db-8a24-8fb9e934c9ad"
      },
      "source": [
        "A * b"
      ],
      "execution_count": null,
      "outputs": [
        {
          "output_type": "execute_result",
          "data": {
            "image/png": "[encoded data removed]",
            "text/latex": "$$\\left[\\begin{matrix}b_{1} m_{11} + b_{2} m_{12}\\\\b_{1} m_{21} + b_{2} m_{22}\\end{matrix}\\right]$$",
            "text/plain": [
              "⎡b₁⋅m₁₁ + b₂⋅m₁₂⎤\n",
              "⎢               ⎥\n",
              "⎣b₁⋅m₂₁ + b₂⋅m₂₂⎦"
            ]
          },
          "metadata": {
            "tags": []
          },
          "execution_count": 83
        }
      ]
    },
    {
      "cell_type": "markdown",
      "metadata": {
        "id": "4PSza7c7Q4xj"
      },
      "source": [
        "And calculate determinants and inverses, and the like:"
      ]
    },
    {
      "cell_type": "code",
      "metadata": {
        "id": "dP13nFCSQ4xj",
        "outputId": "c213f625-6df0-4de4-f7eb-189b3ad1428c"
      },
      "source": [
        "A.det()"
      ],
      "execution_count": null,
      "outputs": [
        {
          "output_type": "execute_result",
          "data": {
            "image/png": "[encoded data removed]",
            "text/latex": "$$m_{11} m_{22} - m_{12} m_{21}$$",
            "text/plain": [
              "m₁₁⋅m₂₂ - m₁₂⋅m₂₁"
            ]
          },
          "metadata": {
            "tags": []
          },
          "execution_count": 84
        }
      ]
    },
    {
      "cell_type": "code",
      "metadata": {
        "id": "4CU5FSPYQ4xk",
        "outputId": "8513701d-b1b9-460a-dba7-9a385d306cdf"
      },
      "source": [
        "A.inv()"
      ],
      "execution_count": null,
      "outputs": [
        {
          "output_type": "execute_result",
          "data": {
            "image/png": "[encoded data removed]",
            "text/latex": "$$\\left[\\begin{matrix}\\frac{1}{m_{11}} + \\frac{m_{12} m_{21}}{m_{11}^{2} \\left(m_{22} - \\frac{m_{12} m_{21}}{m_{11}}\\right)} & - \\frac{m_{12}}{m_{11} \\left(m_{22} - \\frac{m_{12} m_{21}}{m_{11}}\\right)}\\\\- \\frac{m_{21}}{m_{11} \\left(m_{22} - \\frac{m_{12} m_{21}}{m_{11}}\\right)} & \\frac{1}{m_{22} - \\frac{m_{12} m_{21}}{m_{11}}}\\end{matrix}\\right]$$",
            "text/plain": [
              "⎡ 1          m₁₂⋅m₂₁                -m₁₂        ⎤\n",
              "⎢─── + ────────────────────  ───────────────────⎥\n",
              "⎢m₁₁      2 ⎛      m₁₂⋅m₂₁⎞      ⎛      m₁₂⋅m₂₁⎞⎥\n",
              "⎢      m₁₁ ⋅⎜m₂₂ - ───────⎟  m₁₁⋅⎜m₂₂ - ───────⎟⎥\n",
              "⎢           ⎝        m₁₁  ⎠      ⎝        m₁₁  ⎠⎥\n",
              "⎢                                               ⎥\n",
              "⎢          -m₂₁                       1         ⎥\n",
              "⎢   ───────────────────         ─────────────   ⎥\n",
              "⎢       ⎛      m₁₂⋅m₂₁⎞               m₁₂⋅m₂₁   ⎥\n",
              "⎢   m₁₁⋅⎜m₂₂ - ───────⎟         m₂₂ - ───────   ⎥\n",
              "⎣       ⎝        m₁₁  ⎠                 m₁₁     ⎦"
            ]
          },
          "metadata": {
            "tags": []
          },
          "execution_count": 85
        }
      ]
    },
    {
      "cell_type": "markdown",
      "metadata": {
        "id": "FZrsULslQ4xk"
      },
      "source": [
        "## Solving equations"
      ]
    },
    {
      "cell_type": "markdown",
      "metadata": {
        "id": "Twp0YatUQ4xl"
      },
      "source": [
        "For solving equations and systems of equations we can use the `solve` function:"
      ]
    },
    {
      "cell_type": "code",
      "metadata": {
        "id": "2YBP6WksQ4xl",
        "outputId": "51de8e54-4d6e-4821-e0fc-8f8fba194bb0"
      },
      "source": [
        "solve(x**2 - 1, x)"
      ],
      "execution_count": null,
      "outputs": [
        {
          "output_type": "execute_result",
          "data": {
            "image/png": "[encoded data removed]",
            "text/latex": "$$\\left [ -1, \\quad 1\\right ]$$",
            "text/plain": [
              "[-1, 1]"
            ]
          },
          "metadata": {
            "tags": []
          },
          "execution_count": 86
        }
      ]
    },
    {
      "cell_type": "code",
      "metadata": {
        "id": "5C0wK_9pQ4xm",
        "outputId": "73ac0f8b-39c9-4110-f1de-e82b53cb4bdd"
      },
      "source": [
        "solve(x**4 - x**2 - 1, x)"
      ],
      "execution_count": null,
      "outputs": [
        {
          "output_type": "execute_result",
          "data": {
            "image/png": "[encoded data removed]",
            "text/latex": "$$\\left [ - i \\sqrt{- \\frac{1}{2} + \\frac{\\sqrt{5}}{2}}, \\quad i \\sqrt{- \\frac{1}{2} + \\frac{\\sqrt{5}}{2}}, \\quad - \\sqrt{\\frac{1}{2} + \\frac{\\sqrt{5}}{2}}, \\quad \\sqrt{\\frac{1}{2} + \\frac{\\sqrt{5}}{2}}\\right ]$$",
            "text/plain": [
              "⎡        _____________         _____________        ___________       ________\n",
              "⎢       ╱         ___         ╱         ___        ╱       ___       ╱       _\n",
              "⎢      ╱    1   ╲╱ 5         ╱    1   ╲╱ 5        ╱  1   ╲╱ 5       ╱  1   ╲╱ \n",
              "⎢-ⅈ⋅  ╱   - ─ + ───── , ⅈ⋅  ╱   - ─ + ───── , -  ╱   ─ + ───── ,   ╱   ─ + ───\n",
              "⎣   ╲╱      2     2       ╲╱      2     2      ╲╱    2     2     ╲╱    2     2\n",
              "\n",
              "___⎤\n",
              "__ ⎥\n",
              "5  ⎥\n",
              "── ⎥\n",
              "   ⎦"
            ]
          },
          "metadata": {
            "tags": []
          },
          "execution_count": 87
        }
      ]
    },
    {
      "cell_type": "markdown",
      "metadata": {
        "id": "3P3gkAlrQ4xm"
      },
      "source": [
        "System of equations:"
      ]
    },
    {
      "cell_type": "code",
      "metadata": {
        "id": "Pivag6iuQ4xn",
        "outputId": "dea2e3e6-7f68-4330-ffac-f75c1ef163e3"
      },
      "source": [
        "solve([x + y - 1, x - y - 1], [x,y])"
      ],
      "execution_count": null,
      "outputs": [
        {
          "output_type": "execute_result",
          "data": {
            "image/png": "[encoded data removed]",
            "text/latex": "$$\\left \\{ x : 1, \\quad y : 0\\right \\}$$",
            "text/plain": [
              "{x: 1, y: 0}"
            ]
          },
          "metadata": {
            "tags": []
          },
          "execution_count": 88
        }
      ]
    },
    {
      "cell_type": "markdown",
      "metadata": {
        "id": "NqJKVdnwQ4xn"
      },
      "source": [
        "In terms of other symbolic expressions:"
      ]
    },
    {
      "cell_type": "code",
      "metadata": {
        "id": "xnH3YN2qQ4xo",
        "outputId": "b2281d71-d909-4c7f-eb6c-c8a971be729a"
      },
      "source": [
        "solve([x + y - a, x - y - c], [x,y])"
      ],
      "execution_count": null,
      "outputs": [
        {
          "output_type": "execute_result",
          "data": {
            "image/png": "[encoded data removed]",
            "text/latex": "$$\\left \\{ x : \\frac{a}{2} + \\frac{c}{2}, \\quad y : \\frac{a}{2} - \\frac{c}{2}\\right \\}$$",
            "text/plain": [
              "⎧   a   c     a   c⎫\n",
              "⎨x: ─ + ─, y: ─ - ─⎬\n",
              "⎩   2   2     2   2⎭"
            ]
          },
          "metadata": {
            "tags": []
          },
          "execution_count": 89
        }
      ]
    },
    {
      "cell_type": "code",
      "execution_count": 3,
      "metadata": {},
      "outputs": [
        {
          "output_type": "error",
          "ename": "ModuleNotFoundError",
          "evalue": "No module named 'sympy'",
          "traceback": [
            "\u001b[1;31m---------------------------------------------------------------------------\u001b[0m",
            "\u001b[1;31mModuleNotFoundError\u001b[0m                       Traceback (most recent call last)",
            "\u001b[1;32m<ipython-input-3-821f7cb5eb58>\u001b[0m in \u001b[0;36m<module>\u001b[1;34m\u001b[0m\n\u001b[0;32m      1\u001b[0m \u001b[1;32mimport\u001b[0m \u001b[0mnumpy\u001b[0m \u001b[1;32mas\u001b[0m \u001b[0mnp\u001b[0m\u001b[1;33m\u001b[0m\u001b[1;33m\u001b[0m\u001b[0m\n\u001b[1;32m----> 2\u001b[1;33m \u001b[1;32mfrom\u001b[0m \u001b[0msympy\u001b[0m\u001b[1;33m.\u001b[0m\u001b[0msolvers\u001b[0m \u001b[1;32mimport\u001b[0m \u001b[0msolve\u001b[0m\u001b[1;33m\u001b[0m\u001b[1;33m\u001b[0m\u001b[0m\n\u001b[0m\u001b[0;32m      3\u001b[0m \u001b[1;32mfrom\u001b[0m \u001b[0msympy\u001b[0m \u001b[1;32mimport\u001b[0m \u001b[0mSymbol\u001b[0m\u001b[1;33m\u001b[0m\u001b[1;33m\u001b[0m\u001b[0m\n\u001b[0;32m      4\u001b[0m \u001b[1;33m\u001b[0m\u001b[0m\n\u001b[0;32m      5\u001b[0m \u001b[0mNa\u001b[0m \u001b[1;33m=\u001b[0m \u001b[0mSymbol\u001b[0m\u001b[1;33m(\u001b[0m\u001b[1;34m'Na'\u001b[0m\u001b[1;33m)\u001b[0m\u001b[1;33m\u001b[0m\u001b[1;33m\u001b[0m\u001b[0m\n",
            "\u001b[1;31mModuleNotFoundError\u001b[0m: No module named 'sympy'"
          ]
        }
      ],
      "source": [
        "import numpy as np\n",
        "from sympy.solvers import solve\n",
        "from sympy import Symbol\n",
        "\n",
        "x1 = Symbol('x1')\n",
        "x2 = Symbol('x2')\n",
        "\n",
        "f1 = 2*x1 - x2\n",
        "f2 = 4*x2 + x1\n",
        "\n",
        "solve((f1,f2), dict=True)"
      ]
    },
    {
      "source": [
        "## Further reading\n",
        "* http://sympy.org/en/index.html - The SymPy projects web page.\n",
        "* https://github.com/sympy/sympy - The source code of SymPy.\n",
        "* http://live.sympy.org - Online version of SymPy for testing and demonstrations."
      ],
      "cell_type": "markdown",
      "metadata": {
        "id": "-XIyvwUBQ4xp"
      }
    },
    {
      "cell_type": "markdown",
      "metadata": {
        "id": "UwU8zAR1Q4xp"
      },
      "source": [
        "## Versions"
      ]
    },
    {
      "cell_type": "code",
      "metadata": {
        "id": "xFfcLQzJQ4xp",
        "outputId": "f1186323-7c15-4abc-fa47-958ebb09d436"
      },
      "source": [
        "%reload_ext version_information\n",
        "\n",
        "%version_information numpy, matplotlib, sympy"
      ],
      "execution_count": null,
      "outputs": [
        {
          "output_type": "execute_result",
          "data": {
            "application/json": {
              "Software versions": [
                {
                  "module": "Python",
                  "version": "2.7.10 64bit [GCC 4.2.1 (Apple Inc. build 5577)]"
                },
                {
                  "module": "IPython",
                  "version": "3.2.1"
                },
                {
                  "module": "OS",
                  "version": "Darwin 14.1.0 x86_64 i386 64bit"
                },
                {
                  "module": "numpy",
                  "version": "1.9.2"
                },
                {
                  "module": "matplotlib",
                  "version": "1.4.3"
                },
                {
                  "module": "sympy",
                  "version": "0.7.6"
                }
              ]
            },
            "text/html": [
              "<table><tr><th>Software</th><th>Version</th></tr><tr><td>Python</td><td>2.7.10 64bit [GCC 4.2.1 (Apple Inc. build 5577)]</td></tr><tr><td>IPython</td><td>3.2.1</td></tr><tr><td>OS</td><td>Darwin 14.1.0 x86_64 i386 64bit</td></tr><tr><td>numpy</td><td>1.9.2</td></tr><tr><td>matplotlib</td><td>1.4.3</td></tr><tr><td>sympy</td><td>0.7.6</td></tr><tr><td colspan='2'>Sat Aug 15 11:37:37 2015 JST</td></tr></table>"
            ],
            "text/latex": "\\begin{tabular}{|l|l|}\\hline\n{\\bf Software} & {\\bf Version} \\\\ \\hline\\hline\nPython & 2.7.10 64bit [GCC 4.2.1 (Apple Inc. build 5577)] \\\\ \\hline\nIPython & 3.2.1 \\\\ \\hline\nOS & Darwin 14.1.0 x86\\_64 i386 64bit \\\\ \\hline\nnumpy & 1.9.2 \\\\ \\hline\nmatplotlib & 1.4.3 \\\\ \\hline\nsympy & 0.7.6 \\\\ \\hline\n\\hline \\multicolumn{2}{|l|}{Sat Aug 15 11:37:37 2015 JST} \\\\ \\hline\n\\end{tabular}\n",
            "text/plain": [
              "Software versions\n",
              "Python 2.7.10 64bit [GCC 4.2.1 (Apple Inc. build 5577)]\n",
              "IPython 3.2.1\n",
              "OS Darwin 14.1.0 x86_64 i386 64bit\n",
              "numpy 1.9.2\n",
              "matplotlib 1.4.3\n",
              "sympy 0.7.6\n",
              "Sat Aug 15 11:37:37 2015 JST"
            ]
          },
          "metadata": {
            "tags": []
          },
          "execution_count": 90
        }
      ]
    }
  ]
}