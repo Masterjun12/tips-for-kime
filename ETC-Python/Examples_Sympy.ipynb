{
  "nbformat": 4,
  "nbformat_minor": 0,
  "metadata": {
    "colab": {
      "name": "2021-1 Dynamics Final.ipynb",
      "provenance": [],
      "collapsed_sections": [],
      "authorship_tag": "ABX9TyMfhPbAuEec3GeWvOIjNt8p",
      "include_colab_link": true
    },
    "kernelspec": {
      "name": "python3",
      "display_name": "Python 3"
    },
    "language_info": {
      "name": "python"
    }
  },
  "cells": [
    {
      "cell_type": "markdown",
      "metadata": {
        "id": "view-in-github",
        "colab_type": "text"
      },
      "source": [
        "<a href=\"https://colab.research.google.com/github/knowledge-intelligence/tips-for-kime/blob/main/%5BETC%5D%20Python/Examples_Sympy.ipynb\" target=\"_parent\"><img src=\"https://colab.research.google.com/assets/colab-badge.svg\" alt=\"Open In Colab\"/></a>"
      ]
    },
    {
      "cell_type": "code",
      "metadata": {
        "id": "a5HrFhH_4Nle"
      },
      "source": [
        "import numpy as np\n",
        "## Prob 2.(a)\n",
        "Vb = -25 + (50j * np.cos(np.deg2rad(30)) - 100j)\n",
        "print(Vb)\n",
        "print(np.angle(Vb, deg=True))\n",
        "print(np.angle(Vb, deg=True)+180)\n",
        "print(np.angle(Vb, deg=False))\n",
        "print(np.angle(Vb, deg=False)+np.pi)\n",
        "print(np.abs(Vb))"
      ],
      "execution_count": null,
      "outputs": []
    },
    {
      "cell_type": "code",
      "metadata": {
        "colab": {
          "base_uri": "https://localhost:8080/"
        },
        "id": "n4U-X8ktfkPz",
        "outputId": "6b012109-beaf-4c71-e1d0-fcf65768d8c3"
      },
      "source": [
        "import numpy as np\n",
        "from sympy.solvers import solve\n",
        "from sympy import Symbol\n",
        "\n",
        "## Prob 2.(b)\n",
        "\n",
        "Na = Symbol('Na')\n",
        "Nb = Symbol('Nb')\n",
        "T = Symbol('T')\n",
        "aA = Symbol('aA')\n",
        "aB_A = Symbol('aB_A')\n",
        "g = 9.81\n",
        "\n",
        "P = 30 # 25 # N\n",
        "ma = 10 # 15/g # kg\n",
        "mb = 5 # 4/g # kg\n",
        "theta = 30 # 50 #degree\n",
        "\n",
        "f1 = Na - Nb*np.cos(np.deg2rad(theta)) + 2*T*np.cos(np.deg2rad(90-theta))\n",
        "f2 = -ma*g + P + T - 2*T*np.sin(np.deg2rad(90-theta)) - Nb*np.sin(np.deg2rad(theta)) + ma*aA\n",
        "f3 = -2*T + mb*g*np.sin(np.deg2rad(90-theta)) - mb*aB_A - mb*aA*np.sin(np.deg2rad(90-theta))\n",
        "f4 = Nb - mb*g*np.cos(np.deg2rad(90-theta)) + mb*aA*np.cos(np.deg2rad(90-theta))\n",
        "f5 = aA + 2*aB_A\n",
        "\n",
        "solve((f1,f2,f3,f4,f5), dict=True)\n"
      ],
      "execution_count": null,
      "outputs": [
        {
          "output_type": "execute_result",
          "data": {
            "text/plain": [
              "[{Na: -10.0578595850434,\n",
              "  Nb: 4.40928082991319,\n",
              "  T: 13.8764087961680,\n",
              "  aA: 8.04628766803472,\n",
              "  aB_A: -4.02314383401736}]"
            ]
          },
          "metadata": {
            "tags": []
          },
          "execution_count": 4
        }
      ]
    },
    {
      "cell_type": "code",
      "metadata": {
        "colab": {
          "base_uri": "https://localhost:8080/"
        },
        "id": "toyHFkXfuBrY",
        "outputId": "24a32c76-14d7-412e-a74f-53a9f5975dac"
      },
      "source": [
        "import numpy as np\n",
        "from sympy.solvers import solve\n",
        "from sympy import Symbol\n",
        "\n",
        "## Prob 3.(a)\n",
        "\n",
        "Na = Symbol('Na')\n",
        "Nb = Symbol('Nb')\n",
        "aO = Symbol('aO')\n",
        "aG = Symbol('aG')\n",
        "alpha = Symbol('alpha')\n",
        "\n",
        "g = 9.81\n",
        "\n",
        "muA = 0.3\n",
        "ma = 40 # kg\n",
        "mb = 4 # kg\n",
        "theta = 20 # degree\n",
        "kO = 0.12 # m\n",
        "\n",
        "f1 = Na + Nb - (ma+mb)*g*np.cos(np.deg2rad(theta))\n",
        "f2 = (ma+mb)*g*np.sin(np.deg2rad(theta)) - muA*Na -ma*aG -mb*aO\n",
        "f3 = ma*g*np.sin(np.deg2rad(theta))*0.4 + ma*g*np.cos(np.deg2rad(theta))*0.3 + mb*g*np.sin(np.deg2rad(theta))*0.15 + mb*g*np.cos(np.deg2rad(theta))*0.4 \\\n",
        "    -ma*aG*0.4 -Nb*0.4 -mb*aO*0.15 + 4*(kO**2)*alpha\n",
        "f4 = aO - 0.15*alpha\n",
        "f5 = aG - 0.15*alpha\n",
        "\n",
        "solve((f1,f2,f3,f4,f5), dict=True)"
      ],
      "execution_count": null,
      "outputs": [
        {
          "output_type": "execute_result",
          "data": {
            "text/plain": [
              "[{Na: 69.6977464599159,\n",
              "  Nb: 335.911176376114,\n",
              "  aG: 2.88000569834357,\n",
              "  aO: 2.88000569834357,\n",
              "  alpha: 19.2000379889572}]"
            ]
          },
          "metadata": {
            "tags": []
          },
          "execution_count": 9
        }
      ]
    },
    {
      "cell_type": "code",
      "metadata": {
        "colab": {
          "base_uri": "https://localhost:8080/"
        },
        "id": "Clv7p39D3aCf",
        "outputId": "5a73d880-1082-44b7-f74f-06f78727702e"
      },
      "source": [
        "import numpy as np\n",
        "from sympy.solvers import solve\n",
        "from sympy import Symbol\n",
        "\n",
        "## Prob 3.(b)\n",
        "\n",
        "Fc = Symbol('Fc')\n",
        "aGx = Symbol('aGx')\n",
        "aGy = Symbol('aGy')\n",
        "Nc = Symbol('Nc')\n",
        "alpha = Symbol('alpha')\n",
        "Ay = Symbol('Ay')\n",
        "Ax = Symbol('Ax')\n",
        "By = Symbol('By')\n",
        "\n",
        "g = 9.81\n",
        "mus = 0.6\n",
        "muk = 0.3\n",
        "m = 60 # 50 # kg\n",
        "\n",
        "r = 0.4 # m\n",
        "rG = 4*r/(3*np.pi)\n",
        "IG = 1/2*m*(r**2) - m*(rG**2)\n",
        "\n",
        "\n",
        "f1 = Fc - m*aGx\n",
        "f2 = m*g - Nc - m*aGy\n",
        "f3 = Nc*rG - Fc*0.4 - IG*alpha\n",
        "f4 = aGx - 0.4*alpha\n",
        "f5 = aGy - rG*alpha\n",
        "\n",
        "f6 = Nc*1.25 - By*3\n",
        "f7 = Ay + By - Nc\n",
        "f8 = Ax - Fc\n",
        "\n",
        "solve((f1,f2,f3,f4,f5,f6,f7,f8), dict=True)"
      ],
      "execution_count": null,
      "outputs": [
        {
          "output_type": "execute_result",
          "data": {
            "text/plain": [
              "[{Ax: 166.539732451359,\n",
              "  Ay: 302.119033003145,\n",
              "  By: 215.799309287960,\n",
              "  Fc: 166.539732451359,\n",
              "  Nc: 517.918342291105,\n",
              "  aGx: 2.77566220752265,\n",
              "  aGy: 1.17802762848158,\n",
              "  alpha: 6.93915551880664}]"
            ]
          },
          "metadata": {
            "tags": []
          },
          "execution_count": 15
        }
      ]
    },
    {
      "cell_type": "code",
      "metadata": {
        "colab": {
          "base_uri": "https://localhost:8080/"
        },
        "id": "gQQtCmFguQvs",
        "outputId": "565fab7c-c7a2-4714-d2f8-e4f199713b36"
      },
      "source": [
        "517.918342291105 * 0.6"
      ],
      "execution_count": null,
      "outputs": [
        {
          "output_type": "execute_result",
          "data": {
            "text/plain": [
              "310.75100537466295"
            ]
          },
          "metadata": {
            "tags": []
          },
          "execution_count": 16
        }
      ]
    }
  ]
}