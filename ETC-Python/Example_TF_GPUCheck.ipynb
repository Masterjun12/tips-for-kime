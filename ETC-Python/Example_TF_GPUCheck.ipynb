{
  "nbformat": 4,
  "nbformat_minor": 0,
  "metadata": {
    "colab": {
      "name": "Tensorflow_GPUCheck.ipynb",
      "provenance": [],
      "authorship_tag": "ABX9TyM72L1o1YZiWa+U2n16ijNj",
      "include_colab_link": true
    },
    "kernelspec": {
      "name": "python3",
      "display_name": "Python 3"
    },
    "language_info": {
      "name": "python"
    },
    "accelerator": "GPU"
  },
  "cells": [
    {
      "cell_type": "markdown",
      "metadata": {
        "id": "view-in-github",
        "colab_type": "text"
      },
      "source": [
        "<a href=\"https://colab.research.google.com/github/knowledge-intelligence/tips-for-kime/blob/main/ETC-Python/Example_TF_GPUCheck.ipynb\" target=\"_parent\"><img src=\"https://colab.research.google.com/assets/colab-badge.svg\" alt=\"Open In Colab\"/></a>"
      ]
    },
    {
      "cell_type": "code",
      "metadata": {
        "colab": {
          "base_uri": "https://localhost:8080/"
        },
        "id": "cueJF78buIzz",
        "outputId": "bddbe72b-c1ad-4a96-dc95-6a16c2c1aa00"
      },
      "source": [
        "import numpy as np\n",
        "from sympy.solvers import solve\n",
        "from sympy import Symbol\n",
        "\n",
        "## Prob 18.12\n",
        "v = Symbol('v')\n",
        "\n",
        "f = 25/2*0.125**2*(v/0.075)**2+25*v**2-981\n",
        "solve((f), dict=True)\n",
        "\n",
        "\n",
        "## Prob 18.18\n",
        "w = Symbol('w')\n",
        "md = 20\n",
        "theta = 30\n",
        "M = 30\n",
        "r = 0.2\n",
        "d = 0.8\n",
        "d0 = 0.65\n",
        "g = 9.81\n",
        "k = 150\n",
        "\n",
        "f = M*d/r + md*g*d*np.sin(np.deg2rad(theta)) - k/2*((d+d0)**2 - d0**2) - 1.0/2*md*(w*r)**2 - 1.0/2*(1.0/2*md*r**2)*w**2\n",
        "solve((f), dict=True)\n",
        "\n"
      ],
      "execution_count": null,
      "outputs": [
        {
          "output_type": "execute_result",
          "data": {
            "text/plain": [
              "[{w: -10.9909053312273}, {w: 10.9909053312273}]"
            ]
          },
          "metadata": {
            "tags": []
          },
          "execution_count": 5
        }
      ]
    },
    {
      "cell_type": "code",
      "metadata": {
        "colab": {
          "base_uri": "https://localhost:8080/"
        },
        "id": "cG0nNJ7HA_rg",
        "outputId": "422776ea-d175-4149-9a99-9f8fb707fb23"
      },
      "source": [
        "import tensorflow as tf\n",
        "\n",
        "tf.debugging.set_log_device_placement(True)\n",
        "a = tf.constant([[1.0, 2.0, 3.0], [4.0, 5.0, 6.0]])\n",
        "b = tf.constant([[1.0, 2.0], [3.0, 4.0], [5.0, 6.0]])\n",
        "c = tf.matmul(a, b)"
      ],
      "execution_count": 7,
      "outputs": [
        {
          "output_type": "stream",
          "text": [
            "Executing op MatMul in device /job:localhost/replica:0/task:0/device:GPU:0\n"
          ],
          "name": "stdout"
        }
      ]
    },
    {
      "cell_type": "code",
      "metadata": {
        "colab": {
          "base_uri": "https://localhost:8080/"
        },
        "id": "COQpSb0itJZ6",
        "outputId": "4b61199e-52ce-4a74-e96c-1acb12dbc657"
      },
      "source": [
        "if tf.test.gpu_device_name():\n",
        "    print('Default GPU Device: {}'.format(tf.test.gpu_device_name()))\n",
        "    print(tf.config.list_physical_devices('GPU'))"
      ],
      "execution_count": 5,
      "outputs": [
        {
          "output_type": "stream",
          "text": [
            "Default GPU Device: /device:GPU:0\n",
            "[PhysicalDevice(name='/physical_device:GPU:0', device_type='GPU')]\n"
          ],
          "name": "stdout"
        }
      ]
    },
    {
      "cell_type": "code",
      "metadata": {
        "colab": {
          "base_uri": "https://localhost:8080/"
        },
        "id": "52TnfhEUtLZ3",
        "outputId": "9dd6f8d7-e520-4b88-fb6b-1309d8fd91e4"
      },
      "source": [
        "from tensorflow.python.client import device_lib \n",
        "print(device_lib.list_local_devices())"
      ],
      "execution_count": 6,
      "outputs": [
        {
          "output_type": "stream",
          "text": [
            "[name: \"/device:CPU:0\"\n",
            "device_type: \"CPU\"\n",
            "memory_limit: 268435456\n",
            "locality {\n",
            "}\n",
            "incarnation: 2338558784364331118\n",
            ", name: \"/device:GPU:0\"\n",
            "device_type: \"GPU\"\n",
            "memory_limit: 14509932544\n",
            "locality {\n",
            "  bus_id: 1\n",
            "  links {\n",
            "  }\n",
            "}\n",
            "incarnation: 4580207569340710958\n",
            "physical_device_desc: \"device: 0, name: Tesla T4, pci bus id: 0000:00:04.0, compute capability: 7.5\"\n",
            "]\n"
          ],
          "name": "stdout"
        }
      ]
    }
  ]
}