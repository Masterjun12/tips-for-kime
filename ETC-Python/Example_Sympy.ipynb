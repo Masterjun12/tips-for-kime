{
  "nbformat": 4,
  "nbformat_minor": 0,
  "metadata": {
    "kernelspec": {
      "name": "python3",
      "display_name": "Python 3"
    },
    "colab": {
      "name": "Example_Sympy.ipynb",
      "provenance": []
    },
    "language_info": {
      "name": "python"
    }
  },
  "cells": [
    {
      "cell_type": "markdown",
      "metadata": {
        "id": "Q__82Tg8Q4wf"
      },
      "source": [
        "# Sympy - Symbolic algebra in Python"
      ]
    },
    {
      "cell_type": "markdown",
      "metadata": {
        "id": "8o0BGJVrQ4wi"
      },
      "source": [
        "J.R. Johansson (jrjohansson at gmail.com)\n",
        "\n",
        "The latest version of this [IPython notebook](http://ipython.org/notebook.html) lecture is available at [http://github.com/jrjohansson/scientific-python-lectures](http://github.com/jrjohansson/scientific-python-lectures).\n",
        "\n",
        "The other notebooks in this lecture series are indexed at [http://jrjohansson.github.io](http://jrjohansson.github.io)."
      ]
    },
    {
      "cell_type": "code",
      "metadata": {
        "id": "Rfe8zL7NQ4wj"
      },
      "source": [
        "%matplotlib inline\n",
        "import matplotlib.pyplot as plt\n",
        "from sympy import *"
      ],
      "execution_count": 2,
      "outputs": []
    },
    {
      "cell_type": "markdown",
      "metadata": {
        "id": "CxaNRrD0Q4wl"
      },
      "source": [
        "To get nice-looking $\\LaTeX$ formatted output run:"
      ]
    },
    {
      "cell_type": "code",
      "metadata": {
        "id": "51Av7gCVQ4wl"
      },
      "source": [
        "init_printing()\n",
        "\n",
        "# or with older versions of sympy/ipython, load the IPython extension\n",
        "#%load_ext sympy.interactive.ipythonprinting\n",
        "# or\n",
        "#%load_ext sympyprinting"
      ],
      "execution_count": 3,
      "outputs": []
    },
    {
      "cell_type": "markdown",
      "metadata": {
        "id": "-cPb6ftUQ4wm"
      },
      "source": [
        "## Symbolic variables"
      ]
    },
    {
      "cell_type": "code",
      "metadata": {
        "id": "RpsS-d6RQ4wn"
      },
      "source": [
        "x = Symbol('x')"
      ],
      "execution_count": 4,
      "outputs": []
    },
    {
      "cell_type": "code",
      "metadata": {
        "id": "97M2S9fkQ4wn",
        "outputId": "e52f81a2-8ec8-4da9-bcdd-f78274888899",
        "colab": {
          "base_uri": "https://localhost:8080/",
          "height": 39
        }
      },
      "source": [
        "(pi + x)**2"
      ],
      "execution_count": 5,
      "outputs": [
        {
          "output_type": "execute_result",
          "data": {
            "image/png": "[encoded data removed]",
            "text/latex": "$\\displaystyle \\left(x + \\pi\\right)^{2}$",
            "text/plain": [
              "       2\n",
              "(x + π) "
            ]
          },
          "metadata": {
            "tags": []
          },
          "execution_count": 5
        }
      ]
    },
    {
      "cell_type": "code",
      "metadata": {
        "id": "MXqafibdQ4wp"
      },
      "source": [
        "# alternative way of defining symbols\n",
        "a, b, c = symbols(\"a, b, c\")"
      ],
      "execution_count": 6,
      "outputs": []
    },
    {
      "cell_type": "code",
      "metadata": {
        "id": "xcH815QVQ4wp",
        "outputId": "6cf8bc33-570d-44ec-fb35-d2fc19f2e03c",
        "colab": {
          "base_uri": "https://localhost:8080/"
        }
      },
      "source": [
        "type(a)"
      ],
      "execution_count": 7,
      "outputs": [
        {
          "output_type": "execute_result",
          "data": {
            "text/plain": [
              "sympy.core.symbol.Symbol"
            ]
          },
          "metadata": {
            "tags": []
          },
          "execution_count": 7
        }
      ]
    },
    {
      "cell_type": "markdown",
      "metadata": {
        "id": "XQq_81sFQ4wq"
      },
      "source": [
        "We can add assumptions to symbols when we create them:"
      ]
    },
    {
      "cell_type": "code",
      "metadata": {
        "id": "hQurDRvOQ4wq"
      },
      "source": [
        "x = Symbol('x', real=True)"
      ],
      "execution_count": 8,
      "outputs": []
    },
    {
      "cell_type": "code",
      "metadata": {
        "id": "s-CQaosUQ4wr",
        "outputId": "1319e027-7907-4464-d7eb-553720492c1f",
        "colab": {
          "base_uri": "https://localhost:8080/"
        }
      },
      "source": [
        "x.is_imaginary"
      ],
      "execution_count": 9,
      "outputs": [
        {
          "output_type": "execute_result",
          "data": {
            "text/plain": [
              "False"
            ]
          },
          "metadata": {
            "tags": []
          },
          "execution_count": 9
        }
      ]
    },
    {
      "cell_type": "code",
      "metadata": {
        "id": "9Tw0xZWSQ4wr"
      },
      "source": [
        "x = Symbol('x', positive=True)"
      ],
      "execution_count": 10,
      "outputs": []
    },
    {
      "cell_type": "code",
      "metadata": {
        "id": "K5xdwP9jQ4wr",
        "outputId": "dafd65fc-6f1a-49b4-919c-1523f1b25b00",
        "colab": {
          "base_uri": "https://localhost:8080/",
          "height": 37
        }
      },
      "source": [
        "x > 0"
      ],
      "execution_count": 11,
      "outputs": [
        {
          "output_type": "execute_result",
          "data": {
            "text/latex": "$\\displaystyle \\text{True}$",
            "text/plain": [
              "True"
            ]
          },
          "metadata": {
            "tags": []
          },
          "execution_count": 11
        }
      ]
    },
    {
      "cell_type": "markdown",
      "metadata": {
        "id": "G57FAPC5Q4ws"
      },
      "source": [
        "The imaginary unit is denoted `I` in Sympy. "
      ]
    },
    {
      "cell_type": "code",
      "metadata": {
        "id": "gR09UWWDQ4ws",
        "outputId": "c1c83627-9690-49a7-b1e1-ee98b8f337e6",
        "colab": {
          "base_uri": "https://localhost:8080/",
          "height": 38
        }
      },
      "source": [
        "1+1*I"
      ],
      "execution_count": 12,
      "outputs": [
        {
          "output_type": "execute_result",
          "data": {
            "image/png": "[encoded data removed]",
            "text/latex": "$\\displaystyle 1 + i$",
            "text/plain": [
              "1 + ⅈ"
            ]
          },
          "metadata": {
            "tags": []
          },
          "execution_count": 12
        }
      ]
    },
    {
      "cell_type": "code",
      "metadata": {
        "id": "QwyooIqHQ4wt",
        "outputId": "8cd0cca1-7abd-45b0-adec-8a809e4c05f5",
        "colab": {
          "base_uri": "https://localhost:8080/",
          "height": 37
        }
      },
      "source": [
        "I**2"
      ],
      "execution_count": 13,
      "outputs": [
        {
          "output_type": "execute_result",
          "data": {
            "image/png": "[encoded data removed]",
            "text/latex": "$\\displaystyle -1$",
            "text/plain": [
              "-1"
            ]
          },
          "metadata": {
            "tags": []
          },
          "execution_count": 13
        }
      ]
    },
    {
      "cell_type": "code",
      "metadata": {
        "id": "VsejTgSJQ4wt",
        "outputId": "09f684ba-161a-47e2-864c-3b11cd5c3b8b",
        "colab": {
          "base_uri": "https://localhost:8080/",
          "height": 39
        }
      },
      "source": [
        "(x * I + 1)**2"
      ],
      "execution_count": 14,
      "outputs": [
        {
          "output_type": "execute_result",
          "data": {
            "image/png": "[encoded data removed]",
            "text/latex": "$\\displaystyle \\left(i x + 1\\right)^{2}$",
            "text/plain": [
              "         2\n",
              "(ⅈ⋅x + 1) "
            ]
          },
          "metadata": {
            "tags": []
          },
          "execution_count": 14
        }
      ]
    },
    {
      "cell_type": "markdown",
      "metadata": {
        "id": "A-ScNW3gQ4wu"
      },
      "source": [
        "### Rational numbers\n",
        "There are three different numerical types in SymPy: `Real`, `Rational`, `Integer`: "
      ]
    },
    {
      "cell_type": "code",
      "metadata": {
        "id": "JHgA8NzAQ4wv"
      },
      "source": [
        "r1 = Rational(4,5)\n",
        "r2 = Rational(5,4)"
      ],
      "execution_count": 19,
      "outputs": []
    },
    {
      "cell_type": "code",
      "metadata": {
        "id": "23EFNTt_Q4wv",
        "outputId": "a3c047bb-5611-4917-8480-b013357ba7ca",
        "colab": {
          "base_uri": "https://localhost:8080/",
          "height": 51
        }
      },
      "source": [
        "r1"
      ],
      "execution_count": 20,
      "outputs": [
        {
          "output_type": "execute_result",
          "data": {
            "image/png": "[encoded data removed]",
            "text/latex": "$\\displaystyle \\frac{4}{5}$",
            "text/plain": [
              "4/5"
            ]
          },
          "metadata": {
            "tags": []
          },
          "execution_count": 20
        }
      ]
    },
    {
      "cell_type": "code",
      "metadata": {
        "id": "NtuQ5tAMQ4wv",
        "outputId": "243c9af7-55c5-4355-d87c-eba1ca5670e1",
        "colab": {
          "base_uri": "https://localhost:8080/",
          "height": 51
        }
      },
      "source": [
        "r1+r2"
      ],
      "execution_count": 21,
      "outputs": [
        {
          "output_type": "execute_result",
          "data": {
            "image/png": "[encoded data removed]",
            "text/latex": "$\\displaystyle \\frac{41}{20}$",
            "text/plain": [
              "41\n",
              "──\n",
              "20"
            ]
          },
          "metadata": {
            "tags": []
          },
          "execution_count": 21
        }
      ]
    },
    {
      "cell_type": "code",
      "metadata": {
        "id": "ofabbOeBQ4ww",
        "outputId": "a8d4e9ce-72cd-4486-be93-999bd3ff536d",
        "colab": {
          "base_uri": "https://localhost:8080/",
          "height": 51
        }
      },
      "source": [
        "r1/r2"
      ],
      "execution_count": 22,
      "outputs": [
        {
          "output_type": "execute_result",
          "data": {
            "image/png": "[encoded data removed]",
            "text/latex": "$\\displaystyle \\frac{16}{25}$",
            "text/plain": [
              "16\n",
              "──\n",
              "25"
            ]
          },
          "metadata": {
            "tags": []
          },
          "execution_count": 22
        }
      ]
    },
    {
      "cell_type": "markdown",
      "metadata": {
        "id": "sEublHJ3Q4wx"
      },
      "source": [
        "## Numerical evaluation\n",
        "SymPy uses a library for artitrary precision as numerical backend, and has predefined SymPy expressions for a number of mathematical constants, such as: `pi`, `e`, `oo` for infinity.\n",
        "\n",
        "To evaluate an expression numerically we can use the `evalf` function (or `N`). It takes an argument `n` which specifies the number of significant digits."
      ]
    },
    {
      "cell_type": "code",
      "metadata": {
        "id": "eVHxqppDQ4wx",
        "outputId": "325088d6-5fe7-421d-9d1e-80f5869e6d19"
      },
      "source": [
        "pi.evalf(n=50)"
      ],
      "execution_count": null,
      "outputs": [
        {
          "output_type": "execute_result",
          "data": {
            "image/png": "[encoded data removed]",
            "text/latex": "$$3.1415926535897932384626433832795028841971693993751$$",
            "text/plain": [
              "3.1415926535897932384626433832795028841971693993751"
            ]
          },
          "metadata": {
            "tags": []
          },
          "execution_count": 19
        }
      ]
    },
    {
      "cell_type": "code",
      "metadata": {
        "id": "K68rwTjNQ4wx"
      },
      "source": [
        "x = Symbol('x')\n",
        "y = (x + pi)**2"
      ],
      "execution_count": 25,
      "outputs": []
    },
    {
      "cell_type": "code",
      "metadata": {
        "id": "AtJUngG_Q4wy",
        "outputId": "2e077c14-052a-4229-d5e0-a673c12c930c",
        "colab": {
          "base_uri": "https://localhost:8080/",
          "height": 39
        }
      },
      "source": [
        "N(y, 5) # same as evalf"
      ],
      "execution_count": 31,
      "outputs": [
        {
          "output_type": "execute_result",
          "data": {
            "image/png": "[encoded data removed]",
            "text/latex": "$\\displaystyle 9.8696 \\left(0.31831 x + 1\\right)^{2}$",
            "text/plain": [
              "                      2\n",
              "9.8696⋅(0.31831⋅x + 1) "
            ]
          },
          "metadata": {
            "tags": []
          },
          "execution_count": 31
        }
      ]
    },
    {
      "cell_type": "markdown",
      "metadata": {
        "id": "zNSVW64GQ4wy"
      },
      "source": [
        "When we numerically evaluate algebraic expressions we often want to substitute a symbol with a numerical value. In SymPy we do that using the `subs` function:"
      ]
    },
    {
      "cell_type": "code",
      "metadata": {
        "id": "3M73p8X2Q4wz",
        "outputId": "ce62fa2d-3ba6-4658-8ec9-5f221e44df17",
        "colab": {
          "base_uri": "https://localhost:8080/",
          "height": 39
        }
      },
      "source": [
        "y.subs(x, 1.5)"
      ],
      "execution_count": 32,
      "outputs": [
        {
          "output_type": "execute_result",
          "data": {
            "image/png": "[encoded data removed]",
            "text/latex": "$\\displaystyle \\left(1.5 + \\pi\\right)^{2}$",
            "text/plain": [
              "         2\n",
              "(1.5 + π) "
            ]
          },
          "metadata": {
            "tags": []
          },
          "execution_count": 32
        }
      ]
    },
    {
      "cell_type": "code",
      "metadata": {
        "id": "4I0yguDsQ4wz",
        "outputId": "b398fbd3-c934-49a4-9590-2a59bc8c5ffc",
        "colab": {
          "base_uri": "https://localhost:8080/",
          "height": 37
        }
      },
      "source": [
        "N(y.subs(x, 1.5), n=4)"
      ],
      "execution_count": 34,
      "outputs": [
        {
          "output_type": "execute_result",
          "data": {
            "image/png": "[encoded data removed]",
            "text/latex": "$\\displaystyle 21.54$",
            "text/plain": [
              "21.54"
            ]
          },
          "metadata": {
            "tags": []
          },
          "execution_count": 34
        }
      ]
    },
    {
      "cell_type": "markdown",
      "metadata": {
        "id": "28MjVsXJQ4w0"
      },
      "source": [
        "The `subs` function can of course also be used to substitute Symbols and expressions:"
      ]
    },
    {
      "cell_type": "code",
      "metadata": {
        "id": "e9MVx0RqQ4w0",
        "outputId": "998cafb1-bd1b-4035-df15-2e39029178ab",
        "colab": {
          "base_uri": "https://localhost:8080/",
          "height": 39
        }
      },
      "source": [
        "y.subs(x, a+pi)"
      ],
      "execution_count": 35,
      "outputs": [
        {
          "output_type": "execute_result",
          "data": {
            "image/png": "[encoded data removed]",
            "text/latex": "$\\displaystyle \\left(a + 2 \\pi\\right)^{2}$",
            "text/plain": [
              "         2\n",
              "(a + 2⋅π) "
            ]
          },
          "metadata": {
            "tags": []
          },
          "execution_count": 35
        }
      ]
    },
    {
      "cell_type": "markdown",
      "metadata": {
        "id": "d0hdI7OUQ4w0"
      },
      "source": [
        "We can also combine numerical evolution of expressions with NumPy arrays:"
      ]
    },
    {
      "cell_type": "code",
      "metadata": {
        "id": "pzbCtfmdQ4w1"
      },
      "source": [
        "import numpy"
      ],
      "execution_count": 36,
      "outputs": []
    },
    {
      "cell_type": "code",
      "metadata": {
        "id": "Dhyrw5ESQ4w1",
        "outputId": "97eeadb9-9e42-4dd4-977b-e3169c3033c3",
        "colab": {
          "base_uri": "https://localhost:8080/"
        }
      },
      "source": [
        "x_vec = numpy.arange(0, 10, 0.1)"
      ],
      "execution_count": 38,
      "outputs": [
        {
          "output_type": "stream",
          "text": [
            "[0.  0.1 0.2 0.3 0.4 0.5 0.6 0.7 0.8 0.9 1.  1.1 1.2 1.3 1.4 1.5 1.6 1.7\n",
            " 1.8 1.9 2.  2.1 2.2 2.3 2.4 2.5 2.6 2.7 2.8 2.9 3.  3.1 3.2 3.3 3.4 3.5\n",
            " 3.6 3.7 3.8 3.9 4.  4.1 4.2 4.3 4.4 4.5 4.6 4.7 4.8 4.9 5.  5.1 5.2 5.3\n",
            " 5.4 5.5 5.6 5.7 5.8 5.9 6.  6.1 6.2 6.3 6.4 6.5 6.6 6.7 6.8 6.9 7.  7.1\n",
            " 7.2 7.3 7.4 7.5 7.6 7.7 7.8 7.9 8.  8.1 8.2 8.3 8.4 8.5 8.6 8.7 8.8 8.9\n",
            " 9.  9.1 9.2 9.3 9.4 9.5 9.6 9.7 9.8 9.9]\n"
          ],
          "name": "stdout"
        }
      ]
    },
    {
      "cell_type": "code",
      "metadata": {
        "id": "2I-cf0ZiQ4w1",
        "outputId": "e43909fa-a9ac-41e8-c0d1-635310e169bb",
        "colab": {
          "base_uri": "https://localhost:8080/"
        }
      },
      "source": [
        "y_vec = numpy.array([N(((x + pi)**2).subs(x, xx)) for xx in x_vec])"
      ],
      "execution_count": 40,
      "outputs": [
        {
          "output_type": "stream",
          "text": [
            "[9.86960440108936 10.5079229318073 11.1662414625253 11.8445599932432\n",
            " 12.5428785239612 13.2611970546792 13.9995155853971 14.7578341161151\n",
            " 15.5361526468330 16.3344711775510 17.1527897082689 17.9911082389869\n",
            " 18.8494267697049 19.7277453004228 20.6260638311408 21.5443823618587\n",
            " 22.4827008925767 23.4410194232947 24.4193379540126 25.4176564847306\n",
            " 26.4359750154485 27.4742935461665 28.5326120768845 29.6109306076024\n",
            " 30.7092491383204 31.8275676690383 32.9658861997563 34.1242047304742\n",
            " 35.3025232611922 36.5008417919102 37.7191603226281 38.9574788533461\n",
            " 40.2157973840640 41.4941159147820 42.7924344455000 44.1107529762179\n",
            " 45.4490715069359 46.8073900376538 48.1857085683718 49.5840270990898\n",
            " 51.0023456298077 52.4406641605257 53.8989826912436 55.3773012219616\n",
            " 56.8756197526795 58.3939382833975 59.9322568141155 61.4905753448334\n",
            " 63.0688938755514 64.6672124062693 66.2855309369873 67.9238494677053\n",
            " 69.5821679984232 71.2604865291412 72.9588050598591 74.6771235905771\n",
            " 76.4154421212951 78.1737606520130 79.9520791827310 81.7503977134489\n",
            " 83.5687162441669 85.4070347748848 87.2653533056028 89.1436718363208\n",
            " 91.0419903670387 92.9603088977567 94.8986274284746 96.8569459591926\n",
            " 98.8352644899106 100.833583020629 102.851901551346 104.890220082064\n",
            " 106.948538612782 109.026857143500 111.125175674218 113.243494204936\n",
            " 115.381812735654 117.540131266372 119.718449797090 121.916768327808\n",
            " 124.135086858526 126.373405389244 128.631723919962 130.910042450680\n",
            " 133.208360981398 135.526679512116 137.864998042834 140.223316573552\n",
            " 142.601635104270 144.999953634988 147.418272165706 149.856590696424\n",
            " 152.314909227142 154.793227757860 157.291546288577 159.809864819295\n",
            " 162.348183350013 164.906501880731 167.484820411449 170.083138942167]\n"
          ],
          "name": "stdout"
        }
      ]
    },
    {
      "cell_type": "code",
      "metadata": {
        "id": "tD8NLqckQ4w2",
        "outputId": "ddb3001d-178e-4441-d97c-ab125de72a23",
        "colab": {
          "base_uri": "https://localhost:8080/",
          "height": 265
        }
      },
      "source": [
        "fig, ax = plt.subplots()\n",
        "ax.plot(x_vec, y_vec);"
      ],
      "execution_count": 41,
      "outputs": [
        {
          "output_type": "display_data",
          "data": {
            "image/png": "[encoded data removed]",
            "text/plain": [
              "<Figure size 432x288 with 1 Axes>"
            ]
          },
          "metadata": {
            "tags": [],
            "needs_background": "light"
          }
        }
      ]
    },
    {
      "cell_type": "markdown",
      "metadata": {
        "id": "AnGSPKNlQ4w2"
      },
      "source": [
        "However, this kind of numerical evolution can be very slow, and there is a much more efficient way to do it: Use the function `lambdify` to \"compile\" a Sympy expression into a function that is much more efficient to evaluate numerically:"
      ]
    },
    {
      "cell_type": "code",
      "metadata": {
        "id": "H0ZiUKi5Q4w3"
      },
      "source": [
        "f = lambdify([x], (x + pi)**2, 'numpy')  # the first argument is a list of variables that\n",
        "                                         # f will be a function of: in this case only x -> f(x)"
      ],
      "execution_count": 42,
      "outputs": []
    },
    {
      "cell_type": "code",
      "metadata": {
        "id": "v_mAvGRUQ4w3"
      },
      "source": [
        "y_vec = f(x_vec)  # now we can directly pass a numpy array and f(x) is efficiently evaluated"
      ],
      "execution_count": 43,
      "outputs": []
    },
    {
      "cell_type": "markdown",
      "metadata": {
        "id": "-KcXV9onQ4w3"
      },
      "source": [
        "The speedup when using \"lambdified\" functions instead of direct numerical evaluation can be significant, often several orders of magnitude. Even in this simple example we get a significant speed up:"
      ]
    },
    {
      "cell_type": "code",
      "metadata": {
        "id": "N3R4YQrxQ4w4",
        "outputId": "72c23b67-fa94-4ccb-e42e-36bf07332f47",
        "colab": {
          "base_uri": "https://localhost:8080/"
        }
      },
      "source": [
        "%%timeit\n",
        "\n",
        "y_vec = numpy.array([N(((x + pi)**2).subs(x, xx)) for xx in x_vec])"
      ],
      "execution_count": 44,
      "outputs": [
        {
          "output_type": "stream",
          "text": [
            "100 loops, best of 5: 18.8 ms per loop\n"
          ],
          "name": "stdout"
        }
      ]
    },
    {
      "cell_type": "code",
      "metadata": {
        "id": "v_XqdPiuQ4w4",
        "outputId": "a9d2bf9b-bc81-45bc-d245-e39ad499d741",
        "colab": {
          "base_uri": "https://localhost:8080/"
        }
      },
      "source": [
        "%%timeit\n",
        "\n",
        "y_vec = f(x_vec)"
      ],
      "execution_count": 45,
      "outputs": [
        {
          "output_type": "stream",
          "text": [
            "The slowest run took 15.12 times longer than the fastest. This could mean that an intermediate result is being cached.\n",
            "100000 loops, best of 5: 2.23 µs per loop\n"
          ],
          "name": "stdout"
        }
      ]
    },
    {
      "cell_type": "markdown",
      "metadata": {
        "id": "DX5GKqkFQ4w5"
      },
      "source": [
        "## Algebraic manipulations"
      ]
    },
    {
      "cell_type": "markdown",
      "metadata": {
        "id": "2he4WmSJQ4w6"
      },
      "source": [
        "### Expand and factor\n",
        "The first steps in an algebraic manipulation "
      ]
    },
    {
      "cell_type": "code",
      "metadata": {
        "id": "GjWlEArPQ4w6",
        "outputId": "2b9f63a7-9691-4db2-8722-56cd37407d68",
        "colab": {
          "base_uri": "https://localhost:8080/",
          "height": 38
        }
      },
      "source": [
        "(x+1)*(x+2)*(x+3)"
      ],
      "execution_count": 46,
      "outputs": [
        {
          "output_type": "execute_result",
          "data": {
            "image/png": "[encoded data removed]",
            "text/latex": "$\\displaystyle \\left(x + 1\\right) \\left(x + 2\\right) \\left(x + 3\\right)$",
            "text/plain": [
              "(x + 1)⋅(x + 2)⋅(x + 3)"
            ]
          },
          "metadata": {
            "tags": []
          },
          "execution_count": 46
        }
      ]
    },
    {
      "cell_type": "code",
      "metadata": {
        "id": "rJoyRSIRQ4w7",
        "outputId": "6dc5bc73-335f-4ffd-a638-f3be76001cd0",
        "colab": {
          "base_uri": "https://localhost:8080/",
          "height": 38
        }
      },
      "source": [
        "expand((x+1)*(x+2)*(x+3))"
      ],
      "execution_count": 47,
      "outputs": [
        {
          "output_type": "execute_result",
          "data": {
            "image/png": "[encoded data removed]",
            "text/latex": "$\\displaystyle x^{3} + 6 x^{2} + 11 x + 6$",
            "text/plain": [
              " 3      2           \n",
              "x  + 6⋅x  + 11⋅x + 6"
            ]
          },
          "metadata": {
            "tags": []
          },
          "execution_count": 47
        }
      ]
    },
    {
      "cell_type": "markdown",
      "metadata": {
        "id": "-1nFYWCTQ4w7"
      },
      "source": [
        "The `expand` function takes a number of keywords arguments which we can tell the functions what kind of expansions we want to have performed. For example, to expand trigonometric expressions, use the `trig=True` keyword argument:"
      ]
    },
    {
      "cell_type": "code",
      "metadata": {
        "id": "muPaC8xvQ4w8",
        "outputId": "a7748189-59cb-4b3b-db45-03ce18b2af28",
        "colab": {
          "base_uri": "https://localhost:8080/",
          "height": 38
        }
      },
      "source": [
        "sin(a+b)"
      ],
      "execution_count": 48,
      "outputs": [
        {
          "output_type": "execute_result",
          "data": {
            "image/png": "[encoded data removed]",
            "text/latex": "$\\displaystyle \\sin{\\left(a + b \\right)}$",
            "text/plain": [
              "sin(a + b)"
            ]
          },
          "metadata": {
            "tags": []
          },
          "execution_count": 48
        }
      ]
    },
    {
      "cell_type": "code",
      "metadata": {
        "id": "a7xzHy4GQ4w8",
        "outputId": "da7f45d8-c087-40ec-c13e-fd6e85e7b372",
        "colab": {
          "base_uri": "https://localhost:8080/",
          "height": 38
        }
      },
      "source": [
        "expand(sin(a+b), trig=True)"
      ],
      "execution_count": 49,
      "outputs": [
        {
          "output_type": "execute_result",
          "data": {
            "image/png": "[encoded data removed]",
            "text/latex": "$\\displaystyle \\sin{\\left(a \\right)} \\cos{\\left(b \\right)} + \\sin{\\left(b \\right)} \\cos{\\left(a \\right)}$",
            "text/plain": [
              "sin(a)⋅cos(b) + sin(b)⋅cos(a)"
            ]
          },
          "metadata": {
            "tags": []
          },
          "execution_count": 49
        }
      ]
    },
    {
      "cell_type": "markdown",
      "metadata": {
        "id": "sN2hZc7bQ4w9"
      },
      "source": [
        "The opposite a product expansion is of course factoring. The factor an expression in SymPy use the `factor` function: "
      ]
    },
    {
      "cell_type": "code",
      "metadata": {
        "id": "8TCfFq67Q4w-",
        "outputId": "40a443ae-4d43-40a4-c88f-571415801c41",
        "colab": {
          "base_uri": "https://localhost:8080/",
          "height": 38
        }
      },
      "source": [
        "factor(x**3 + 6 * x**2 + 11*x + 6)"
      ],
      "execution_count": 50,
      "outputs": [
        {
          "output_type": "execute_result",
          "data": {
            "image/png": "[encoded data removed]",
            "text/latex": "$\\displaystyle \\left(x + 1\\right) \\left(x + 2\\right) \\left(x + 3\\right)$",
            "text/plain": [
              "(x + 1)⋅(x + 2)⋅(x + 3)"
            ]
          },
          "metadata": {
            "tags": []
          },
          "execution_count": 50
        }
      ]
    },
    {
      "cell_type": "markdown",
      "metadata": {
        "id": "cLbWvv-mQ4w-"
      },
      "source": [
        "### Simplify\n",
        "The `simplify` tries to simplify an expression into a nice looking expression, using various techniques. More specific alternatives to the `simplify` functions also exists: `trigsimp`, `powsimp`, `logcombine`, etc. \n",
        "\n",
        "The basic usages of these functions are as follows:"
      ]
    },
    {
      "cell_type": "code",
      "metadata": {
        "id": "Lui-Z2sjQ4w_",
        "outputId": "1bc56494-a4bb-4312-9610-9e518d1a3432",
        "colab": {
          "base_uri": "https://localhost:8080/",
          "height": 38
        }
      },
      "source": [
        "# simplify expands a product\n",
        "simplify((x+1)*(x+2)*(x+3))"
      ],
      "execution_count": 51,
      "outputs": [
        {
          "output_type": "execute_result",
          "data": {
            "image/png": "[encoded data removed]",
            "text/latex": "$\\displaystyle \\left(x + 1\\right) \\left(x + 2\\right) \\left(x + 3\\right)$",
            "text/plain": [
              "(x + 1)⋅(x + 2)⋅(x + 3)"
            ]
          },
          "metadata": {
            "tags": []
          },
          "execution_count": 51
        }
      ]
    },
    {
      "cell_type": "code",
      "metadata": {
        "id": "nzQl5StmQ4w_",
        "outputId": "90ad9eeb-0ec5-4806-8efb-11fb7d650bc3",
        "colab": {
          "base_uri": "https://localhost:8080/",
          "height": 37
        }
      },
      "source": [
        "# simplify uses trigonometric identities\n",
        "simplify(sin(a)**2 + cos(a)**2)"
      ],
      "execution_count": 52,
      "outputs": [
        {
          "output_type": "execute_result",
          "data": {
            "image/png": "[encoded data removed]",
            "text/latex": "$\\displaystyle 1$",
            "text/plain": [
              "1"
            ]
          },
          "metadata": {
            "tags": []
          },
          "execution_count": 52
        }
      ]
    },
    {
      "cell_type": "code",
      "metadata": {
        "id": "KexmIXFmQ4xA",
        "outputId": "58974d2f-434b-44f6-e521-6c6a6249ebe4",
        "colab": {
          "base_uri": "https://localhost:8080/",
          "height": 55
        }
      },
      "source": [
        "simplify(cos(x)/sin(x))"
      ],
      "execution_count": 53,
      "outputs": [
        {
          "output_type": "execute_result",
          "data": {
            "image/png": "[encoded data removed]",
            "text/latex": "$\\displaystyle \\frac{1}{\\tan{\\left(x \\right)}}$",
            "text/plain": [
              "  1   \n",
              "──────\n",
              "tan(x)"
            ]
          },
          "metadata": {
            "tags": []
          },
          "execution_count": 53
        }
      ]
    },
    {
      "cell_type": "markdown",
      "metadata": {
        "id": "ZP6L33IwQ4xB"
      },
      "source": [
        "### apart and together\n",
        "To manipulate symbolic expressions of fractions, we can use the `apart` and `together` functions:"
      ]
    },
    {
      "cell_type": "code",
      "metadata": {
        "id": "Z-Pt4yVbQ4xB"
      },
      "source": [
        "f1 = 1/((a+1)*(a+2))"
      ],
      "execution_count": 54,
      "outputs": []
    },
    {
      "cell_type": "code",
      "metadata": {
        "id": "zZdkE4GiQ4xB",
        "outputId": "078d2e4c-e8fc-4eed-bf95-ad26eefbe2cf",
        "colab": {
          "base_uri": "https://localhost:8080/",
          "height": 55
        }
      },
      "source": [
        "f1"
      ],
      "execution_count": 55,
      "outputs": [
        {
          "output_type": "execute_result",
          "data": {
            "image/png": "[encoded data removed]",
            "text/latex": "$\\displaystyle \\frac{1}{\\left(a + 1\\right) \\left(a + 2\\right)}$",
            "text/plain": [
              "       1       \n",
              "───────────────\n",
              "(a + 1)⋅(a + 2)"
            ]
          },
          "metadata": {
            "tags": []
          },
          "execution_count": 55
        }
      ]
    },
    {
      "cell_type": "code",
      "metadata": {
        "id": "B9Ji3xThQ4xC",
        "outputId": "40875bc3-750a-4f7c-d3cb-beac6cbd9b3e",
        "colab": {
          "base_uri": "https://localhost:8080/",
          "height": 52
        }
      },
      "source": [
        "apart(f1)"
      ],
      "execution_count": 56,
      "outputs": [
        {
          "output_type": "execute_result",
          "data": {
            "image/png": "[encoded data removed]",
            "text/latex": "$\\displaystyle - \\frac{1}{a + 2} + \\frac{1}{a + 1}$",
            "text/plain": [
              "    1       1  \n",
              "- ───── + ─────\n",
              "  a + 2   a + 1"
            ]
          },
          "metadata": {
            "tags": []
          },
          "execution_count": 56
        }
      ]
    },
    {
      "cell_type": "code",
      "metadata": {
        "id": "RuqfQ-zyQ4xC"
      },
      "source": [
        "f2 = 1/(a+2) + 1/(a+3)"
      ],
      "execution_count": 57,
      "outputs": []
    },
    {
      "cell_type": "code",
      "metadata": {
        "id": "PPis-CfcQ4xD",
        "outputId": "69799f4b-adfa-4bd7-bd7a-4b9bdea3d965",
        "colab": {
          "base_uri": "https://localhost:8080/",
          "height": 52
        }
      },
      "source": [
        "f2"
      ],
      "execution_count": 58,
      "outputs": [
        {
          "output_type": "execute_result",
          "data": {
            "image/png": "[encoded data removed]",
            "text/latex": "$\\displaystyle \\frac{1}{a + 3} + \\frac{1}{a + 2}$",
            "text/plain": [
              "  1       1  \n",
              "───── + ─────\n",
              "a + 3   a + 2"
            ]
          },
          "metadata": {
            "tags": []
          },
          "execution_count": 58
        }
      ]
    },
    {
      "cell_type": "code",
      "metadata": {
        "id": "JaJ9CJHNQ4xD",
        "outputId": "5e967807-9084-4b66-eeeb-8615fca3bd70",
        "colab": {
          "base_uri": "https://localhost:8080/",
          "height": 55
        }
      },
      "source": [
        "together(f2)"
      ],
      "execution_count": 60,
      "outputs": [
        {
          "output_type": "execute_result",
          "data": {
            "image/png": "[encoded data removed]",
            "text/latex": "$\\displaystyle \\frac{2 a + 5}{\\left(a + 2\\right) \\left(a + 3\\right)}$",
            "text/plain": [
              "    2⋅a + 5    \n",
              "───────────────\n",
              "(a + 2)⋅(a + 3)"
            ]
          },
          "metadata": {
            "tags": []
          },
          "execution_count": 60
        }
      ]
    },
    {
      "cell_type": "markdown",
      "metadata": {
        "id": "IgSSqrdyQ4xF"
      },
      "source": [
        "## Calculus"
      ]
    },
    {
      "cell_type": "markdown",
      "metadata": {
        "id": "UAn83lk0Q4xG"
      },
      "source": [
        "### Differentiation"
      ]
    },
    {
      "cell_type": "code",
      "metadata": {
        "id": "yx9ZJjRrQ4xG",
        "outputId": "7635ee0d-465b-4fc6-c363-15e8a2a1764f",
        "colab": {
          "base_uri": "https://localhost:8080/",
          "height": 38
        }
      },
      "source": [
        "x"
      ],
      "execution_count": 75,
      "outputs": [
        {
          "output_type": "execute_result",
          "data": {
            "image/png": "[encoded data removed]",
            "text/latex": "$\\displaystyle x$",
            "text/plain": [
              "x"
            ]
          },
          "metadata": {
            "tags": []
          },
          "execution_count": 75
        }
      ]
    },
    {
      "cell_type": "code",
      "metadata": {
        "id": "F-pC2DIJQ4xH",
        "outputId": "08e89299-584d-4c92-b599-25e22ca984b2",
        "colab": {
          "base_uri": "https://localhost:8080/",
          "height": 38
        }
      },
      "source": [
        "diff(x**2, x)"
      ],
      "execution_count": 76,
      "outputs": [
        {
          "output_type": "execute_result",
          "data": {
            "image/png": "[encoded data removed]",
            "text/latex": "$\\displaystyle 2 x$",
            "text/plain": [
              "2⋅x"
            ]
          },
          "metadata": {
            "tags": []
          },
          "execution_count": 76
        }
      ]
    },
    {
      "cell_type": "markdown",
      "metadata": {
        "id": "t4BaWe9qQ4xI"
      },
      "source": [
        "For higher order derivatives we can do:"
      ]
    },
    {
      "cell_type": "code",
      "metadata": {
        "id": "iK5MW7MzQ4xI",
        "outputId": "d4685df3-bece-4e9b-f7fe-f977217d104c",
        "colab": {
          "base_uri": "https://localhost:8080/",
          "height": 37
        }
      },
      "source": [
        "diff(x**2, x, x)"
      ],
      "execution_count": 77,
      "outputs": [
        {
          "output_type": "execute_result",
          "data": {
            "image/png": "[encoded data removed]",
            "text/latex": "$\\displaystyle 2$",
            "text/plain": [
              "2"
            ]
          },
          "metadata": {
            "tags": []
          },
          "execution_count": 77
        }
      ]
    },
    {
      "cell_type": "code",
      "metadata": {
        "id": "WrdyAvHWQ4xI",
        "outputId": "a5207257-aad6-4aa0-e5c2-8963048c6bfd",
        "colab": {
          "base_uri": "https://localhost:8080/",
          "height": 37
        }
      },
      "source": [
        "diff(x**2, x, 2) # same as above"
      ],
      "execution_count": 78,
      "outputs": [
        {
          "output_type": "execute_result",
          "data": {
            "image/png": "[encoded data removed]",
            "text/latex": "$\\displaystyle 2$",
            "text/plain": [
              "2"
            ]
          },
          "metadata": {
            "tags": []
          },
          "execution_count": 78
        }
      ]
    },
    {
      "cell_type": "markdown",
      "metadata": {
        "id": "owfG68ljQ4xJ"
      },
      "source": [
        "To calculate the derivative of a multivariate expression, we can do:"
      ]
    },
    {
      "cell_type": "code",
      "metadata": {
        "id": "3OEipktoQ4xJ"
      },
      "source": [
        "x, y, z = symbols(\"x,y,z\")"
      ],
      "execution_count": 79,
      "outputs": []
    },
    {
      "cell_type": "code",
      "metadata": {
        "id": "sBxKC9x9Q4xK"
      },
      "source": [
        "f = sin(x*y) + cos(y*z)"
      ],
      "execution_count": 80,
      "outputs": []
    },
    {
      "cell_type": "markdown",
      "metadata": {
        "id": "kWTRBjmtQ4xK"
      },
      "source": [
        "$\\frac{d^3f}{dxdy^2}$"
      ]
    },
    {
      "cell_type": "code",
      "metadata": {
        "id": "OoJHaUFaQ4xK",
        "outputId": "3e75d421-7c0e-4810-8961-dc548848956a",
        "colab": {
          "base_uri": "https://localhost:8080/",
          "height": 38
        }
      },
      "source": [
        "diff(f, x, 1, y, 2)"
      ],
      "execution_count": 81,
      "outputs": [
        {
          "output_type": "execute_result",
          "data": {
            "image/png": "[encoded data removed]",
            "text/latex": "$\\displaystyle - x \\left(x y \\cos{\\left(x y \\right)} + 2 \\sin{\\left(x y \\right)}\\right)$",
            "text/plain": [
              "-x⋅(x⋅y⋅cos(x⋅y) + 2⋅sin(x⋅y))"
            ]
          },
          "metadata": {
            "tags": []
          },
          "execution_count": 81
        }
      ]
    },
    {
      "cell_type": "markdown",
      "metadata": {
        "id": "UeCfnAuOQ4xL"
      },
      "source": [
        "## Integration"
      ]
    },
    {
      "cell_type": "code",
      "metadata": {
        "id": "yzSfgKhkQ4xL",
        "outputId": "690c40ef-8e7a-4657-9a14-2116b6954e22",
        "colab": {
          "base_uri": "https://localhost:8080/",
          "height": 38
        }
      },
      "source": [
        "f"
      ],
      "execution_count": 82,
      "outputs": [
        {
          "output_type": "execute_result",
          "data": {
            "image/png": "[encoded data removed]",
            "text/latex": "$\\displaystyle \\sin{\\left(x y \\right)} + \\cos{\\left(y z \\right)}$",
            "text/plain": [
              "sin(x⋅y) + cos(y⋅z)"
            ]
          },
          "metadata": {
            "tags": []
          },
          "execution_count": 82
        }
      ]
    },
    {
      "cell_type": "code",
      "metadata": {
        "id": "dERpxbcTQ4xM",
        "outputId": "5f4c2ee5-4410-4edb-c74e-de732d402508",
        "colab": {
          "base_uri": "https://localhost:8080/",
          "height": 68
        }
      },
      "source": [
        "integrate(f, x)"
      ],
      "execution_count": 83,
      "outputs": [
        {
          "output_type": "execute_result",
          "data": {
            "text/latex": "$\\displaystyle x \\cos{\\left(y z \\right)} + \\begin{cases} - \\frac{\\cos{\\left(x y \\right)}}{y} & \\text{for}\\: y \\neq 0 \\\\0 & \\text{otherwise} \\end{cases}$",
            "text/plain": [
              "             ⎛⎧-cos(x⋅y)            ⎞\n",
              "             ⎜⎪──────────  for y ≠ 0⎟\n",
              "x⋅cos(y⋅z) + ⎜⎨    y                ⎟\n",
              "             ⎜⎪                     ⎟\n",
              "             ⎝⎩    0       otherwise⎠"
            ]
          },
          "metadata": {
            "tags": []
          },
          "execution_count": 83
        }
      ]
    },
    {
      "cell_type": "markdown",
      "metadata": {
        "id": "KCx2tqHFQ4xM"
      },
      "source": [
        "By providing limits for the integration variable we can evaluate definite integrals:"
      ]
    },
    {
      "cell_type": "code",
      "metadata": {
        "id": "Qe3Zbr2eQ4xN",
        "outputId": "671abbb2-2df8-4e64-fa54-c746b739213d",
        "colab": {
          "base_uri": "https://localhost:8080/",
          "height": 38
        }
      },
      "source": [
        "integrate(f, (x, -1, 1))"
      ],
      "execution_count": 84,
      "outputs": [
        {
          "output_type": "execute_result",
          "data": {
            "image/png": "[encoded data removed]",
            "text/latex": "$\\displaystyle 2 \\cos{\\left(y z \\right)}$",
            "text/plain": [
              "2⋅cos(y⋅z)"
            ]
          },
          "metadata": {
            "tags": []
          },
          "execution_count": 84
        }
      ]
    },
    {
      "cell_type": "code",
      "metadata": {
        "id": "-BT_ClX8Q4xN",
        "outputId": "56b8b60d-f277-4ae0-bb78-d3900086f1fc",
        "colab": {
          "base_uri": "https://localhost:8080/",
          "height": 37
        }
      },
      "source": [
        "integrate(exp(-x**2), (x, -oo, oo))"
      ],
      "execution_count": 85,
      "outputs": [
        {
          "output_type": "execute_result",
          "data": {
            "image/png": "[encoded data removed]",
            "text/latex": "$\\displaystyle \\sqrt{\\pi}$",
            "text/plain": [
              "√π"
            ]
          },
          "metadata": {
            "tags": []
          },
          "execution_count": 85
        }
      ]
    },
    {
      "cell_type": "markdown",
      "metadata": {
        "id": "CcJef1QrQ4xO"
      },
      "source": [
        "Remember, `oo` is the SymPy notation for inifinity."
      ]
    },
    {
      "cell_type": "markdown",
      "metadata": {
        "id": "HkUqI8KjQ4xO"
      },
      "source": [
        "### Sums and products"
      ]
    },
    {
      "cell_type": "code",
      "metadata": {
        "id": "E8mJceNtQ4xP"
      },
      "source": [
        "n = Symbol(\"n\")"
      ],
      "execution_count": 87,
      "outputs": []
    },
    {
      "cell_type": "code",
      "metadata": {
        "id": "754K-5yzQ4xP",
        "outputId": "eb3b79bb-a39a-4e0b-ad60-f3bd0c06098e",
        "colab": {
          "base_uri": "https://localhost:8080/",
          "height": 69
        }
      },
      "source": [
        "Sum(1/n**2, (n, 1, 10))"
      ],
      "execution_count": 88,
      "outputs": [
        {
          "output_type": "execute_result",
          "data": {
            "image/png": "[encoded data removed]",
            "text/latex": "$\\displaystyle \\sum_{n=1}^{10} \\frac{1}{n^{2}}$",
            "text/plain": [
              "  10    \n",
              " ____   \n",
              " ╲      \n",
              "  ╲   1 \n",
              "   ╲  ──\n",
              "   ╱   2\n",
              "  ╱   n \n",
              " ╱      \n",
              " ‾‾‾‾   \n",
              "n = 1   "
            ]
          },
          "metadata": {
            "tags": []
          },
          "execution_count": 88
        }
      ]
    },
    {
      "cell_type": "code",
      "metadata": {
        "id": "AF8NJO8hQ4xQ",
        "outputId": "c18058ea-d9d6-4f9c-cc14-f8fce8732def",
        "colab": {
          "base_uri": "https://localhost:8080/",
          "height": 37
        }
      },
      "source": [
        "Sum(1/n**2, (n,1, 10)).evalf(n=5)"
      ],
      "execution_count": 90,
      "outputs": [
        {
          "output_type": "execute_result",
          "data": {
            "image/png": "[encoded data removed]",
            "text/latex": "$\\displaystyle 1.5498$",
            "text/plain": [
              "1.5498"
            ]
          },
          "metadata": {
            "tags": []
          },
          "execution_count": 90
        }
      ]
    },
    {
      "cell_type": "code",
      "metadata": {
        "id": "xlpQ5zv1Q4xQ",
        "outputId": "63005cfc-06c6-4a1d-95c9-c0f73fe96cf8",
        "colab": {
          "base_uri": "https://localhost:8080/",
          "height": 37
        }
      },
      "source": [
        "Sum(1/n**2, (n, 1, oo)).evalf()"
      ],
      "execution_count": 91,
      "outputs": [
        {
          "output_type": "execute_result",
          "data": {
            "image/png": "[encoded data removed]",
            "text/latex": "$\\displaystyle 1.64493406684823$",
            "text/plain": [
              "1.64493406684823"
            ]
          },
          "metadata": {
            "tags": []
          },
          "execution_count": 91
        }
      ]
    },
    {
      "cell_type": "code",
      "metadata": {
        "id": "LAWEpX_KQ4xR",
        "outputId": "cf069a59-2c7a-409c-ca63-79efd1513841",
        "colab": {
          "base_uri": "https://localhost:8080/",
          "height": 37
        }
      },
      "source": [
        "Product(n, (n, 1, 10)) # 10!"
      ],
      "execution_count": 93,
      "outputs": [
        {
          "output_type": "execute_result",
          "data": {
            "image/png": "[encoded data removed]",
            "text/latex": "$\\displaystyle 3628800.0$",
            "text/plain": [
              "3628800.00000000"
            ]
          },
          "metadata": {
            "tags": []
          },
          "execution_count": 93
        }
      ]
    },
    {
      "cell_type": "markdown",
      "metadata": {
        "id": "Y339PHPcQ4xf"
      },
      "source": [
        "## Linear algebra"
      ]
    },
    {
      "cell_type": "markdown",
      "metadata": {
        "id": "rMlKmWtqQ4xf"
      },
      "source": [
        "### Matrices"
      ]
    },
    {
      "cell_type": "markdown",
      "metadata": {
        "id": "33S_KRvoQ4xg"
      },
      "source": [
        "Matrices are defined using the `Matrix` class:"
      ]
    },
    {
      "cell_type": "code",
      "metadata": {
        "id": "ab8mhNRTQ4xg"
      },
      "source": [
        "m11, m12, m21, m22 = symbols(\"m11, m12, m21, m22\")\n",
        "b1, b2 = symbols(\"b1, b2\")"
      ],
      "execution_count": 94,
      "outputs": []
    },
    {
      "cell_type": "code",
      "metadata": {
        "id": "evo9v2-bQ4xh",
        "outputId": "ff06eed7-be10-4bd1-e398-9f0ea491562a",
        "colab": {
          "base_uri": "https://localhost:8080/",
          "height": 57
        }
      },
      "source": [
        "A = Matrix([[m11, m12],[m21, m22]])\n",
        "A"
      ],
      "execution_count": 95,
      "outputs": [
        {
          "output_type": "execute_result",
          "data": {
            "text/latex": "$\\displaystyle \\left[\\begin{matrix}m_{11} & m_{12}\\\\m_{21} & m_{22}\\end{matrix}\\right]$",
            "text/plain": [
              "⎡m₁₁  m₁₂⎤\n",
              "⎢        ⎥\n",
              "⎣m₂₁  m₂₂⎦"
            ]
          },
          "metadata": {
            "tags": []
          },
          "execution_count": 95
        }
      ]
    },
    {
      "cell_type": "code",
      "metadata": {
        "id": "H0C7XMhVQ4xh",
        "outputId": "5e560c10-b975-4948-880a-a57d7953f7a4",
        "colab": {
          "base_uri": "https://localhost:8080/",
          "height": 57
        }
      },
      "source": [
        "b = Matrix([[b1], [b2]])\n",
        "b"
      ],
      "execution_count": 96,
      "outputs": [
        {
          "output_type": "execute_result",
          "data": {
            "text/latex": "$\\displaystyle \\left[\\begin{matrix}b_{1}\\\\b_{2}\\end{matrix}\\right]$",
            "text/plain": [
              "⎡b₁⎤\n",
              "⎢  ⎥\n",
              "⎣b₂⎦"
            ]
          },
          "metadata": {
            "tags": []
          },
          "execution_count": 96
        }
      ]
    },
    {
      "cell_type": "markdown",
      "metadata": {
        "id": "i4-gzNi-Q4xi"
      },
      "source": [
        "With `Matrix` class instances we can do the usual matrix algebra operations:"
      ]
    },
    {
      "cell_type": "code",
      "metadata": {
        "id": "VI6YtrpcQ4xi",
        "outputId": "caef75da-4e2f-4a44-d4b2-fcab6ffcc78e",
        "colab": {
          "base_uri": "https://localhost:8080/",
          "height": 57
        }
      },
      "source": [
        "A**2"
      ],
      "execution_count": 99,
      "outputs": [
        {
          "output_type": "execute_result",
          "data": {
            "text/latex": "$\\displaystyle \\left[\\begin{matrix}m_{11}^{2} + m_{12} m_{21} & m_{11} m_{12} + m_{12} m_{22}\\\\m_{11} m_{21} + m_{21} m_{22} & m_{12} m_{21} + m_{22}^{2}\\end{matrix}\\right]$",
            "text/plain": [
              "⎡    2                               ⎤\n",
              "⎢ m₁₁  + m₁₂⋅m₂₁    m₁₁⋅m₁₂ + m₁₂⋅m₂₂⎥\n",
              "⎢                                    ⎥\n",
              "⎢                                 2  ⎥\n",
              "⎣m₁₁⋅m₂₁ + m₂₁⋅m₂₂   m₁₂⋅m₂₁ + m₂₂   ⎦"
            ]
          },
          "metadata": {
            "tags": []
          },
          "execution_count": 99
        }
      ]
    },
    {
      "cell_type": "code",
      "metadata": {
        "id": "h9UoRLMLQ4xj",
        "outputId": "12a41248-b927-45a8-cd18-708074388754",
        "colab": {
          "base_uri": "https://localhost:8080/",
          "height": 57
        }
      },
      "source": [
        "A * b"
      ],
      "execution_count": 100,
      "outputs": [
        {
          "output_type": "execute_result",
          "data": {
            "text/latex": "$\\displaystyle \\left[\\begin{matrix}b_{1} m_{11} + b_{2} m_{12}\\\\b_{1} m_{21} + b_{2} m_{22}\\end{matrix}\\right]$",
            "text/plain": [
              "⎡b₁⋅m₁₁ + b₂⋅m₁₂⎤\n",
              "⎢               ⎥\n",
              "⎣b₁⋅m₂₁ + b₂⋅m₂₂⎦"
            ]
          },
          "metadata": {
            "tags": []
          },
          "execution_count": 100
        }
      ]
    },
    {
      "cell_type": "markdown",
      "metadata": {
        "id": "4PSza7c7Q4xj"
      },
      "source": [
        "And calculate determinants and inverses, and the like:"
      ]
    },
    {
      "cell_type": "code",
      "metadata": {
        "id": "dP13nFCSQ4xj",
        "outputId": "e0f5dd72-9b73-400f-9fd3-b267bc904e1d",
        "colab": {
          "base_uri": "https://localhost:8080/",
          "height": 38
        }
      },
      "source": [
        "A.det()"
      ],
      "execution_count": 101,
      "outputs": [
        {
          "output_type": "execute_result",
          "data": {
            "image/png": "[encoded data removed]",
            "text/latex": "$\\displaystyle m_{11} m_{22} - m_{12} m_{21}$",
            "text/plain": [
              "m₁₁⋅m₂₂ - m₁₂⋅m₂₁"
            ]
          },
          "metadata": {
            "tags": []
          },
          "execution_count": 101
        }
      ]
    },
    {
      "cell_type": "code",
      "metadata": {
        "id": "4CU5FSPYQ4xk",
        "outputId": "66507b63-a551-402a-d64a-2772660db82d",
        "colab": {
          "base_uri": "https://localhost:8080/",
          "height": 60
        }
      },
      "source": [
        "A.inv()"
      ],
      "execution_count": 102,
      "outputs": [
        {
          "output_type": "execute_result",
          "data": {
            "text/latex": "$\\displaystyle \\left[\\begin{matrix}\\frac{m_{22}}{m_{11} m_{22} - m_{12} m_{21}} & - \\frac{m_{12}}{m_{11} m_{22} - m_{12} m_{21}}\\\\- \\frac{m_{21}}{m_{11} m_{22} - m_{12} m_{21}} & \\frac{m_{11}}{m_{11} m_{22} - m_{12} m_{21}}\\end{matrix}\\right]$",
            "text/plain": [
              "⎡       m₂₂               -m₁₂       ⎤\n",
              "⎢─────────────────  ─────────────────⎥\n",
              "⎢m₁₁⋅m₂₂ - m₁₂⋅m₂₁  m₁₁⋅m₂₂ - m₁₂⋅m₂₁⎥\n",
              "⎢                                    ⎥\n",
              "⎢      -m₂₁                m₁₁       ⎥\n",
              "⎢─────────────────  ─────────────────⎥\n",
              "⎣m₁₁⋅m₂₂ - m₁₂⋅m₂₁  m₁₁⋅m₂₂ - m₁₂⋅m₂₁⎦"
            ]
          },
          "metadata": {
            "tags": []
          },
          "execution_count": 102
        }
      ]
    },
    {
      "cell_type": "markdown",
      "metadata": {
        "id": "FZrsULslQ4xk"
      },
      "source": [
        "## Solving equations"
      ]
    },
    {
      "cell_type": "markdown",
      "metadata": {
        "id": "Twp0YatUQ4xl"
      },
      "source": [
        "For solving equations and systems of equations we can use the `solve` function:"
      ]
    },
    {
      "cell_type": "code",
      "metadata": {
        "id": "2YBP6WksQ4xl",
        "outputId": "1a89c3e7-819d-4361-9f10-8545c850e15b",
        "colab": {
          "base_uri": "https://localhost:8080/",
          "height": 37
        }
      },
      "source": [
        "solve(x**2 - 1, x)"
      ],
      "execution_count": 103,
      "outputs": [
        {
          "output_type": "execute_result",
          "data": {
            "image/png": "[encoded data removed]",
            "text/latex": "$\\displaystyle \\left[ -1, \\  1\\right]$",
            "text/plain": [
              "[-1, 1]"
            ]
          },
          "metadata": {
            "tags": []
          },
          "execution_count": 103
        }
      ]
    },
    {
      "cell_type": "code",
      "metadata": {
        "id": "5C0wK_9pQ4xm",
        "outputId": "042c27b1-eaa0-4e7f-d8c6-d9afbcf61cec",
        "colab": {
          "base_uri": "https://localhost:8080/",
          "height": 78
        }
      },
      "source": [
        "solve(x**4 - x**2 - 1, x)"
      ],
      "execution_count": 116,
      "outputs": [
        {
          "output_type": "execute_result",
          "data": {
            "image/png": "[encoded data removed]",
            "text/latex": "$\\displaystyle \\left[ - i \\sqrt{- \\frac{1}{2} + \\frac{\\sqrt{5}}{2}}, \\  i \\sqrt{- \\frac{1}{2} + \\frac{\\sqrt{5}}{2}}, \\  - \\sqrt{\\frac{1}{2} + \\frac{\\sqrt{5}}{2}}, \\  \\sqrt{\\frac{1}{2} + \\frac{\\sqrt{5}}{2}}\\right]$",
            "text/plain": [
              "⎡       __________        __________       ________      ________⎤\n",
              "⎢      ╱   1   √5        ╱   1   √5       ╱ 1   √5      ╱ 1   √5 ⎥\n",
              "⎢-ⅈ⋅  ╱  - ─ + ── , ⅈ⋅  ╱  - ─ + ── , -  ╱  ─ + ── ,   ╱  ─ + ── ⎥\n",
              "⎣   ╲╱     2   2      ╲╱     2   2     ╲╱   2   2    ╲╱   2   2  ⎦"
            ]
          },
          "metadata": {
            "tags": []
          },
          "execution_count": 116
        }
      ]
    },
    {
      "cell_type": "markdown",
      "metadata": {
        "id": "3P3gkAlrQ4xm"
      },
      "source": [
        "System of equations:"
      ]
    },
    {
      "cell_type": "code",
      "metadata": {
        "id": "Pivag6iuQ4xn",
        "outputId": "e958dfb3-4b31-4302-98e8-a6fd8b4cbee4",
        "colab": {
          "base_uri": "https://localhost:8080/",
          "height": 38
        }
      },
      "source": [
        "solve([x + y - 1, x - y - 1], [x,y])"
      ],
      "execution_count": 117,
      "outputs": [
        {
          "output_type": "execute_result",
          "data": {
            "image/png": "[encoded data removed]",
            "text/latex": "$\\displaystyle \\left\\{ x : 1, \\  y : 0\\right\\}$",
            "text/plain": [
              "{x: 1, y: 0}"
            ]
          },
          "metadata": {
            "tags": []
          },
          "execution_count": 117
        }
      ]
    },
    {
      "cell_type": "markdown",
      "metadata": {
        "id": "NqJKVdnwQ4xn"
      },
      "source": [
        "In terms of other symbolic expressions:"
      ]
    },
    {
      "cell_type": "code",
      "metadata": {
        "id": "xnH3YN2qQ4xo",
        "outputId": "2017e24d-1c74-4e1e-91a6-68f7122ee7b3",
        "colab": {
          "base_uri": "https://localhost:8080/",
          "height": 48
        }
      },
      "source": [
        "a, c = symbols(\"a, c\")\n",
        "solve([x + y - a, x - y - c], [x,y])"
      ],
      "execution_count": 123,
      "outputs": [
        {
          "output_type": "execute_result",
          "data": {
            "image/png": "[encoded data removed]",
            "text/latex": "$\\displaystyle \\left\\{ x : \\frac{a}{2} + \\frac{c}{2}, \\  y : \\frac{a}{2} - \\frac{c}{2}\\right\\}$",
            "text/plain": [
              "⎧   a   c     a   c⎫\n",
              "⎨x: ─ + ─, y: ─ - ─⎬\n",
              "⎩   2   2     2   2⎭"
            ]
          },
          "metadata": {
            "tags": []
          },
          "execution_count": 123
        }
      ]
    },
    {
      "cell_type": "code",
      "metadata": {
        "id": "FJ4la8nrN_7x",
        "outputId": "6ddfb704-89bc-4e4e-a7d1-161fd05bb522",
        "colab": {
          "base_uri": "https://localhost:8080/",
          "height": 51
        }
      },
      "source": [
        "import numpy as np\n",
        "from sympy.solvers import solve\n",
        "from sympy import Symbol\n",
        "\n",
        "x1 = Symbol('x1')\n",
        "x2 = Symbol('x2')\n",
        "\n",
        "f1 = 3*x1 - x2 + 10\n",
        "f2 = 4*x2 + x1 + 5\n",
        "\n",
        "ret = solve((f1,f2), dict=True)\n",
        "#print(ret[0])\n",
        "ret[0][x1]"
      ],
      "execution_count": 142,
      "outputs": [
        {
          "output_type": "execute_result",
          "data": {
            "image/png": "[encoded data removed]",
            "text/latex": "$\\displaystyle - \\frac{45}{13}$",
            "text/plain": [
              "-45 \n",
              "────\n",
              " 13 "
            ]
          },
          "metadata": {
            "tags": []
          },
          "execution_count": 142
        }
      ]
    },
    {
      "cell_type": "markdown",
      "metadata": {
        "id": "-XIyvwUBQ4xp"
      },
      "source": [
        "## Further reading\n",
        "* http://sympy.org/en/index.html - The SymPy projects web page.\n",
        "* https://github.com/sympy/sympy - The source code of SymPy.\n",
        "* http://live.sympy.org - Online version of SymPy for testing and demonstrations."
      ]
    }
  ]
}